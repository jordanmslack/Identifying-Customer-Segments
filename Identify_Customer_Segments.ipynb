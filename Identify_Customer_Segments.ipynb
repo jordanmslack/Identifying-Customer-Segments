{
 "cells": [
  {
   "cell_type": "markdown",
   "metadata": {},
   "source": [
    "# Project: Identify Customer Segments\n",
    "\n",
    "In this project, you will apply unsupervised learning techniques to identify segments of the population that form the core customer base for a mail-order sales company in Germany. These segments can then be used to direct marketing campaigns towards audiences that will have the highest expected rate of returns. The data that you will use has been provided by our partners at Bertelsmann Arvato Analytics, and represents a real-life data science task.\n",
    "\n",
    "This notebook will help you complete this task by providing a framework within which you will perform your analysis steps. In each step of the project, you will see some text describing the subtask that you will perform, followed by one or more code cells for you to complete your work. **Feel free to add additional code and markdown cells as you go along so that you can explore everything in precise chunks.** The code cells provided in the base template will outline only the major tasks, and will usually not be enough to cover all of the minor tasks that comprise it.\n",
    "\n",
    "It should be noted that while there will be precise guidelines on how you should handle certain tasks in the project, there will also be places where an exact specification is not provided. **There will be times in the project where you will need to make and justify your own decisions on how to treat the data.** These are places where there may not be only one way to handle the data. In real-life tasks, there may be many valid ways to approach an analysis task. One of the most important things you can do is clearly document your approach so that other scientists can understand the decisions you've made.\n",
    "\n",
    "At the end of most sections, there will be a Markdown cell labeled **Discussion**. In these cells, you will report your findings for the completed section, as well as document the decisions that you made in your approach to each subtask. **Your project will be evaluated not just on the code used to complete the tasks outlined, but also your communication about your observations and conclusions at each stage.**"
   ]
  },
  {
   "cell_type": "code",
   "execution_count": 77,
   "metadata": {},
   "outputs": [],
   "source": [
    "# import libraries here; add more as necessary\n",
    "import ast\n",
    "import numpy as np\n",
    "import pandas as pd\n",
    "import seaborn as sns\n",
    "import matplotlib.pyplot as plt\n",
    "\n",
    "from sklearn.decomposition import PCA\n",
    "from sklearn.cluster import KMeans\n",
    "from sklearn.preprocessing import MinMaxScaler, Imputer\n",
    "\n",
    "# magic word for producing visualizations in notebook\n",
    "%matplotlib inline"
   ]
  },
  {
   "cell_type": "markdown",
   "metadata": {},
   "source": [
    "### Step 0: Load the Data\n",
    "\n",
    "There are four files associated with this project (not including this one):\n",
    "\n",
    "- `Udacity_AZDIAS_Subset.csv`: Demographics data for the general population of Germany; 891211 persons (rows) x 85 features (columns).\n",
    "- `Udacity_CUSTOMERS_Subset.csv`: Demographics data for customers of a mail-order company; 191652 persons (rows) x 85 features (columns).\n",
    "- `Data_Dictionary.md`: Detailed information file about the features in the provided datasets.\n",
    "- `AZDIAS_Feature_Summary.csv`: Summary of feature attributes for demographics data; 85 features (rows) x 4 columns\n",
    "\n",
    "Each row of the demographics files represents a single person, but also includes information outside of individuals, including information about their household, building, and neighborhood. You will use this information to cluster the general population into groups with similar demographic properties. Then, you will see how the people in the customers dataset fit into those created clusters. The hope here is that certain clusters are over-represented in the customers data, as compared to the general population; those over-represented clusters will be assumed to be part of the core userbase. This information can then be used for further applications, such as targeting for a marketing campaign.\n",
    "\n",
    "To start off with, load in the demographics data for the general population into a pandas DataFrame, and do the same for the feature attributes summary. Note for all of the `.csv` data files in this project: they're semicolon (`;`) delimited, so you'll need an additional argument in your [`read_csv()`](https://pandas.pydata.org/pandas-docs/stable/generated/pandas.read_csv.html) call to read in the data properly. Also, considering the size of the main dataset, it may take some time for it to load completely.\n",
    "\n",
    "Once the dataset is loaded, it's recommended that you take a little bit of time just browsing the general structure of the dataset and feature summary file. You'll be getting deep into the innards of the cleaning in the first major step of the project, so gaining some general familiarity can help you get your bearings."
   ]
  },
  {
   "cell_type": "code",
   "execution_count": 2,
   "metadata": {},
   "outputs": [],
   "source": [
    "# Load in the general demographics data.\n",
    "azdias = pd.read_csv('Udacity_AZDIAS_Subset.csv', sep=';')"
   ]
  },
  {
   "cell_type": "code",
   "execution_count": 3,
   "metadata": {},
   "outputs": [
    {
     "data": {
      "text/plain": [
       "(891221, 85)"
      ]
     },
     "execution_count": 3,
     "metadata": {},
     "output_type": "execute_result"
    }
   ],
   "source": [
    "azdias.shape"
   ]
  },
  {
   "cell_type": "code",
   "execution_count": 4,
   "metadata": {},
   "outputs": [
    {
     "data": {
      "text/html": [
       "<div>\n",
       "<style scoped>\n",
       "    .dataframe tbody tr th:only-of-type {\n",
       "        vertical-align: middle;\n",
       "    }\n",
       "\n",
       "    .dataframe tbody tr th {\n",
       "        vertical-align: top;\n",
       "    }\n",
       "\n",
       "    .dataframe thead th {\n",
       "        text-align: right;\n",
       "    }\n",
       "</style>\n",
       "<table border=\"1\" class=\"dataframe\">\n",
       "  <thead>\n",
       "    <tr style=\"text-align: right;\">\n",
       "      <th></th>\n",
       "      <th>AGER_TYP</th>\n",
       "      <th>ALTERSKATEGORIE_GROB</th>\n",
       "      <th>ANREDE_KZ</th>\n",
       "      <th>CJT_GESAMTTYP</th>\n",
       "      <th>FINANZ_MINIMALIST</th>\n",
       "      <th>FINANZ_SPARER</th>\n",
       "      <th>FINANZ_VORSORGER</th>\n",
       "      <th>FINANZ_ANLEGER</th>\n",
       "      <th>FINANZ_UNAUFFAELLIGER</th>\n",
       "      <th>FINANZ_HAUSBAUER</th>\n",
       "      <th>...</th>\n",
       "      <th>PLZ8_ANTG1</th>\n",
       "      <th>PLZ8_ANTG2</th>\n",
       "      <th>PLZ8_ANTG3</th>\n",
       "      <th>PLZ8_ANTG4</th>\n",
       "      <th>PLZ8_BAUMAX</th>\n",
       "      <th>PLZ8_HHZ</th>\n",
       "      <th>PLZ8_GBZ</th>\n",
       "      <th>ARBEIT</th>\n",
       "      <th>ORTSGR_KLS9</th>\n",
       "      <th>RELAT_AB</th>\n",
       "    </tr>\n",
       "  </thead>\n",
       "  <tbody>\n",
       "    <tr>\n",
       "      <th>0</th>\n",
       "      <td>-1</td>\n",
       "      <td>2</td>\n",
       "      <td>1</td>\n",
       "      <td>2.0</td>\n",
       "      <td>3</td>\n",
       "      <td>4</td>\n",
       "      <td>3</td>\n",
       "      <td>5</td>\n",
       "      <td>5</td>\n",
       "      <td>3</td>\n",
       "      <td>...</td>\n",
       "      <td>NaN</td>\n",
       "      <td>NaN</td>\n",
       "      <td>NaN</td>\n",
       "      <td>NaN</td>\n",
       "      <td>NaN</td>\n",
       "      <td>NaN</td>\n",
       "      <td>NaN</td>\n",
       "      <td>NaN</td>\n",
       "      <td>NaN</td>\n",
       "      <td>NaN</td>\n",
       "    </tr>\n",
       "    <tr>\n",
       "      <th>1</th>\n",
       "      <td>-1</td>\n",
       "      <td>1</td>\n",
       "      <td>2</td>\n",
       "      <td>5.0</td>\n",
       "      <td>1</td>\n",
       "      <td>5</td>\n",
       "      <td>2</td>\n",
       "      <td>5</td>\n",
       "      <td>4</td>\n",
       "      <td>5</td>\n",
       "      <td>...</td>\n",
       "      <td>2.0</td>\n",
       "      <td>3.0</td>\n",
       "      <td>2.0</td>\n",
       "      <td>1.0</td>\n",
       "      <td>1.0</td>\n",
       "      <td>5.0</td>\n",
       "      <td>4.0</td>\n",
       "      <td>3.0</td>\n",
       "      <td>5.0</td>\n",
       "      <td>4.0</td>\n",
       "    </tr>\n",
       "    <tr>\n",
       "      <th>2</th>\n",
       "      <td>-1</td>\n",
       "      <td>3</td>\n",
       "      <td>2</td>\n",
       "      <td>3.0</td>\n",
       "      <td>1</td>\n",
       "      <td>4</td>\n",
       "      <td>1</td>\n",
       "      <td>2</td>\n",
       "      <td>3</td>\n",
       "      <td>5</td>\n",
       "      <td>...</td>\n",
       "      <td>3.0</td>\n",
       "      <td>3.0</td>\n",
       "      <td>1.0</td>\n",
       "      <td>0.0</td>\n",
       "      <td>1.0</td>\n",
       "      <td>4.0</td>\n",
       "      <td>4.0</td>\n",
       "      <td>3.0</td>\n",
       "      <td>5.0</td>\n",
       "      <td>2.0</td>\n",
       "    </tr>\n",
       "    <tr>\n",
       "      <th>3</th>\n",
       "      <td>2</td>\n",
       "      <td>4</td>\n",
       "      <td>2</td>\n",
       "      <td>2.0</td>\n",
       "      <td>4</td>\n",
       "      <td>2</td>\n",
       "      <td>5</td>\n",
       "      <td>2</td>\n",
       "      <td>1</td>\n",
       "      <td>2</td>\n",
       "      <td>...</td>\n",
       "      <td>2.0</td>\n",
       "      <td>2.0</td>\n",
       "      <td>2.0</td>\n",
       "      <td>0.0</td>\n",
       "      <td>1.0</td>\n",
       "      <td>3.0</td>\n",
       "      <td>4.0</td>\n",
       "      <td>2.0</td>\n",
       "      <td>3.0</td>\n",
       "      <td>3.0</td>\n",
       "    </tr>\n",
       "    <tr>\n",
       "      <th>4</th>\n",
       "      <td>-1</td>\n",
       "      <td>3</td>\n",
       "      <td>1</td>\n",
       "      <td>5.0</td>\n",
       "      <td>4</td>\n",
       "      <td>3</td>\n",
       "      <td>4</td>\n",
       "      <td>1</td>\n",
       "      <td>3</td>\n",
       "      <td>2</td>\n",
       "      <td>...</td>\n",
       "      <td>2.0</td>\n",
       "      <td>4.0</td>\n",
       "      <td>2.0</td>\n",
       "      <td>1.0</td>\n",
       "      <td>2.0</td>\n",
       "      <td>3.0</td>\n",
       "      <td>3.0</td>\n",
       "      <td>4.0</td>\n",
       "      <td>6.0</td>\n",
       "      <td>5.0</td>\n",
       "    </tr>\n",
       "  </tbody>\n",
       "</table>\n",
       "<p>5 rows × 85 columns</p>\n",
       "</div>"
      ],
      "text/plain": [
       "   AGER_TYP  ALTERSKATEGORIE_GROB  ANREDE_KZ  CJT_GESAMTTYP  \\\n",
       "0        -1                     2          1            2.0   \n",
       "1        -1                     1          2            5.0   \n",
       "2        -1                     3          2            3.0   \n",
       "3         2                     4          2            2.0   \n",
       "4        -1                     3          1            5.0   \n",
       "\n",
       "   FINANZ_MINIMALIST  FINANZ_SPARER  FINANZ_VORSORGER  FINANZ_ANLEGER  \\\n",
       "0                  3              4                 3               5   \n",
       "1                  1              5                 2               5   \n",
       "2                  1              4                 1               2   \n",
       "3                  4              2                 5               2   \n",
       "4                  4              3                 4               1   \n",
       "\n",
       "   FINANZ_UNAUFFAELLIGER  FINANZ_HAUSBAUER    ...     PLZ8_ANTG1  PLZ8_ANTG2  \\\n",
       "0                      5                 3    ...            NaN         NaN   \n",
       "1                      4                 5    ...            2.0         3.0   \n",
       "2                      3                 5    ...            3.0         3.0   \n",
       "3                      1                 2    ...            2.0         2.0   \n",
       "4                      3                 2    ...            2.0         4.0   \n",
       "\n",
       "   PLZ8_ANTG3  PLZ8_ANTG4  PLZ8_BAUMAX  PLZ8_HHZ  PLZ8_GBZ  ARBEIT  \\\n",
       "0         NaN         NaN          NaN       NaN       NaN     NaN   \n",
       "1         2.0         1.0          1.0       5.0       4.0     3.0   \n",
       "2         1.0         0.0          1.0       4.0       4.0     3.0   \n",
       "3         2.0         0.0          1.0       3.0       4.0     2.0   \n",
       "4         2.0         1.0          2.0       3.0       3.0     4.0   \n",
       "\n",
       "   ORTSGR_KLS9  RELAT_AB  \n",
       "0          NaN       NaN  \n",
       "1          5.0       4.0  \n",
       "2          5.0       2.0  \n",
       "3          3.0       3.0  \n",
       "4          6.0       5.0  \n",
       "\n",
       "[5 rows x 85 columns]"
      ]
     },
     "execution_count": 4,
     "metadata": {},
     "output_type": "execute_result"
    }
   ],
   "source": [
    "azdias.head()"
   ]
  },
  {
   "cell_type": "code",
   "execution_count": 5,
   "metadata": {},
   "outputs": [],
   "source": [
    "# Load in the feature summary file.\n",
    "feat_info = pd.read_csv('AZDIAS_Feature_Summary.csv', sep=';')"
   ]
  },
  {
   "cell_type": "code",
   "execution_count": 6,
   "metadata": {},
   "outputs": [
    {
     "data": {
      "text/html": [
       "<div>\n",
       "<style scoped>\n",
       "    .dataframe tbody tr th:only-of-type {\n",
       "        vertical-align: middle;\n",
       "    }\n",
       "\n",
       "    .dataframe tbody tr th {\n",
       "        vertical-align: top;\n",
       "    }\n",
       "\n",
       "    .dataframe thead th {\n",
       "        text-align: right;\n",
       "    }\n",
       "</style>\n",
       "<table border=\"1\" class=\"dataframe\">\n",
       "  <thead>\n",
       "    <tr style=\"text-align: right;\">\n",
       "      <th></th>\n",
       "      <th>attribute</th>\n",
       "      <th>information_level</th>\n",
       "      <th>type</th>\n",
       "      <th>missing_or_unknown</th>\n",
       "    </tr>\n",
       "  </thead>\n",
       "  <tbody>\n",
       "    <tr>\n",
       "      <th>0</th>\n",
       "      <td>AGER_TYP</td>\n",
       "      <td>person</td>\n",
       "      <td>categorical</td>\n",
       "      <td>[-1,0]</td>\n",
       "    </tr>\n",
       "    <tr>\n",
       "      <th>1</th>\n",
       "      <td>ALTERSKATEGORIE_GROB</td>\n",
       "      <td>person</td>\n",
       "      <td>ordinal</td>\n",
       "      <td>[-1,0,9]</td>\n",
       "    </tr>\n",
       "    <tr>\n",
       "      <th>2</th>\n",
       "      <td>ANREDE_KZ</td>\n",
       "      <td>person</td>\n",
       "      <td>categorical</td>\n",
       "      <td>[-1,0]</td>\n",
       "    </tr>\n",
       "    <tr>\n",
       "      <th>3</th>\n",
       "      <td>CJT_GESAMTTYP</td>\n",
       "      <td>person</td>\n",
       "      <td>categorical</td>\n",
       "      <td>[0]</td>\n",
       "    </tr>\n",
       "    <tr>\n",
       "      <th>4</th>\n",
       "      <td>FINANZ_MINIMALIST</td>\n",
       "      <td>person</td>\n",
       "      <td>ordinal</td>\n",
       "      <td>[-1]</td>\n",
       "    </tr>\n",
       "  </tbody>\n",
       "</table>\n",
       "</div>"
      ],
      "text/plain": [
       "              attribute information_level         type missing_or_unknown\n",
       "0              AGER_TYP            person  categorical             [-1,0]\n",
       "1  ALTERSKATEGORIE_GROB            person      ordinal           [-1,0,9]\n",
       "2             ANREDE_KZ            person  categorical             [-1,0]\n",
       "3         CJT_GESAMTTYP            person  categorical                [0]\n",
       "4     FINANZ_MINIMALIST            person      ordinal               [-1]"
      ]
     },
     "execution_count": 6,
     "metadata": {},
     "output_type": "execute_result"
    }
   ],
   "source": [
    "feat_info.head()"
   ]
  },
  {
   "cell_type": "code",
   "execution_count": 7,
   "metadata": {},
   "outputs": [
    {
     "name": "stdout",
     "output_type": "stream",
     "text": [
      "General Demographic Information: 891221 Rows | 85 Columns\n",
      "Feature Summary File: 85 Rows | 4 Columns\n"
     ]
    }
   ],
   "source": [
    "# Check the structure of the data after it's loaded \n",
    "# (e.g. print the number of rows and columns, print the first few rows).\n",
    "\n",
    "print(f'General Demographic Information: {azdias.shape[0]} Rows | {azdias.shape[1]} Columns')\n",
    "print(f'Feature Summary File: {feat_info.shape[0]} Rows | {feat_info.shape[1]} Columns')"
   ]
  },
  {
   "cell_type": "markdown",
   "metadata": {},
   "source": [
    "> **Tip**: Add additional cells to keep everything in reasonably-sized chunks! Keyboard shortcut `esc --> a` (press escape to enter command mode, then press the 'A' key) adds a new cell before the active cell, and `esc --> b` adds a new cell after the active cell. If you need to convert an active cell to a markdown cell, use `esc --> m` and to convert to a code cell, use `esc --> y`. \n",
    "\n",
    "## Step 1: Preprocessing\n",
    "\n",
    "### Step 1.1: Assess Missing Data\n",
    "\n",
    "The feature summary file contains a summary of properties for each demographics data column. You will use this file to help you make cleaning decisions during this stage of the project. First of all, you should assess the demographics data in terms of missing data. Pay attention to the following points as you perform your analysis, and take notes on what you observe. Make sure that you fill in the **Discussion** cell with your findings and decisions at the end of each step that has one!\n",
    "\n",
    "#### Step 1.1.1: Convert Missing Value Codes to NaNs\n",
    "The fourth column of the feature attributes summary (loaded in above as `feat_info`) documents the codes from the data dictionary that indicate missing or unknown data. While the file encodes this as a list (e.g. `[-1,0]`), this will get read in as a string object. You'll need to do a little bit of parsing to make use of it to identify and clean the data. Convert data that matches a 'missing' or 'unknown' value code into a numpy NaN value. You might want to see how much data takes on a 'missing' or 'unknown' code, and how much data is naturally missing, as a point of interest.\n",
    "\n",
    "**As one more reminder, you are encouraged to add additional cells to break up your analysis into manageable chunks.**"
   ]
  },
  {
   "cell_type": "code",
   "execution_count": 8,
   "metadata": {},
   "outputs": [],
   "source": [
    "pre_nan = azdias.isnull().sum()"
   ]
  },
  {
   "cell_type": "code",
   "execution_count": 9,
   "metadata": {},
   "outputs": [
    {
     "data": {
      "image/png": "[encoded data removed]",
      "text/plain": [
       "<matplotlib.figure.Figure at 0x7fa11d0f1470>"
      ]
     },
     "metadata": {
      "needs_background": "light"
     },
     "output_type": "display_data"
    }
   ],
   "source": [
    "plt.hist(pre_nan)\n",
    "plt.ylabel('columns')\n",
    "plt.xlabel('records')\n",
    "plt.show()"
   ]
  },
  {
   "cell_type": "code",
   "execution_count": 10,
   "metadata": {},
   "outputs": [],
   "source": [
    "for index in range(feat_info.shape[0]):\n",
    "    missing_unknown = feat_info.iloc[index]['missing_or_unknown']\n",
    "    missing_unknown = missing_unknown.strip('[').strip(']').split(sep=',')\n",
    "    missing_unknown = [int(i) if (i!='X' and i!='XX' and i!='') else i for i in missing_unknown]\n",
    "    if missing_unknown != ['']:\n",
    "        azdias = azdias.replace({feat_info.iloc[index]['attribute']: missing_unknown}, np.nan)"
   ]
  },
  {
   "cell_type": "code",
   "execution_count": null,
   "metadata": {},
   "outputs": [],
   "source": [
    "def ConvertMissingValueCodesToNaNs(azdias, tab, feat_info):\n",
    "    ct = 0\n",
    "    for i,j in enumerate(azdias.iteritems()):\n",
    "        tab = tab\n",
    "        if feat_info['missing_or_unknown'][i][1:-1].split(',') != ['']:\n",
    "            for item in (feat_info['missing_or_unknown'][i][1:-1].split(',')):\n",
    "                if item in ['X','XX']: \n",
    "                    tab.append(item)\n",
    "                    ct = ct + 1\n",
    "                else: \n",
    "                    tab.append(int(item))\n",
    "            azdias[j[0]] = azdias[j[0]].replace(tab, np.nan)\n",
    "    return tab"
   ]
  },
  {
   "cell_type": "code",
   "execution_count": null,
   "metadata": {},
   "outputs": [],
   "source": [
    "azdias = ConvertMissingValueCodesToNaNs(azdias, , feat_info)"
   ]
  },
  {
   "cell_type": "markdown",
   "metadata": {},
   "source": [
    "#### Step 1.1.2: Assess Missing Data in Each Column\n",
    "\n",
    "How much missing data is present in each column? There are a few columns that are outliers in terms of the proportion of values that are missing. You will want to use matplotlib's [`hist()`](https://matplotlib.org/api/_as_gen/matplotlib.pyplot.hist.html) function to visualize the distribution of missing value counts to find these columns. Identify and document these columns. While some of these columns might have justifications for keeping or re-encoding the data, for this project you should just remove them from the dataframe. (Feel free to make remarks about these outlier columns in the discussion, however!)\n",
    "\n",
    "For the remaining features, are there any patterns in which columns have, or share, missing data?"
   ]
  },
  {
   "cell_type": "code",
   "execution_count": 11,
   "metadata": {},
   "outputs": [],
   "source": [
    "post_nan = azdias.isnull().sum()"
   ]
  },
  {
   "cell_type": "code",
   "execution_count": 12,
   "metadata": {},
   "outputs": [
    {
     "data": {
      "image/png": "[encoded data removed]",
      "text/plain": [
       "<matplotlib.figure.Figure at 0x7fa11d0f1240>"
      ]
     },
     "metadata": {
      "needs_background": "light"
     },
     "output_type": "display_data"
    }
   ],
   "source": [
    "plt.hist(post_nan)\n",
    "plt.ylabel('columns')\n",
    "plt.xlabel('records')\n",
    "plt.show()"
   ]
  },
  {
   "cell_type": "code",
   "execution_count": 38,
   "metadata": {
    "scrolled": true
   },
   "outputs": [],
   "source": [
    "pre = pd.Series(pre_nan, name='missing_pre')\n",
    "post = pd.Series(post_nan, name='missing_post')\n",
    "pre_post = pd.concat([pre, post], axis=1)\n",
    "pre_post['post_percent'] = np.round(pre_post['missing_post'] / azdias.shape[0], 4)\n",
    "pre_post = pre_post.sort_values('missing_post', ascending=False)\n",
    "pre_post['label'] = pre_post.index"
   ]
  },
  {
   "cell_type": "code",
   "execution_count": 31,
   "metadata": {},
   "outputs": [
    {
     "data": {
      "text/plain": [
       "missing_post\n",
       "0         [FINANZ_UNAUFFAELLIGER, FINANZTYP, FINANZ_HAUS...\n",
       "2881                                 [ALTERSKATEGORIE_GROB]\n",
       "4854      [GFK_URLAUBERTYP, CJT_GESAMTTYP, LP_STATUS_FEI...\n",
       "18348                                  [HH_EINKOMMEN_SCORE]\n",
       "73499     [WOHNDAUER_2008, SOHO_KZ, ANZ_TITEL, ANZ_PERSO...\n",
       "73969                                         [KONSUMNAEHE]\n",
       "77792                    [LP_FAMILIE_FEIN, LP_FAMILIE_GROB]\n",
       "93148     [WOHNLAGE, OST_WEST_KZ, MIN_GEBAEUDEJAHR, GEBA...\n",
       "93155                                  [GEBAEUDETYP_RASTER]\n",
       "93740                      [INNENSTADT, EWDICHTE, BALLRAUM]\n",
       "94572                                 [LP_LEBENSPHASE_GROB]\n",
       "97008                                        [ANZ_HH_TITEL]\n",
       "97274                                         [ORTSGR_KLS9]\n",
       "97375                                    [ARBEIT, RELAT_AB]\n",
       "97632                                 [LP_LEBENSPHASE_FEIN]\n",
       "99352     [CAMEO_INTL_2015, CAMEO_DEU_2015, CAMEO_DEUG_2...\n",
       "99611                                 [ANZ_HAUSHALTE_AKTIV]\n",
       "105800                                   [KBA13_ANZAHL_PKW]\n",
       "108164                              [PRAEGENDE_JUGENDJAHRE]\n",
       "108315                                   [NATIONALITAET_KZ]\n",
       "111196                  [VERS_TYP, HEALTH_TYP, SHOPPER_TYP]\n",
       "116515    [PLZ8_ANTG3, PLZ8_ANTG2, PLZ8_GBZ, PLZ8_HHZ, P...\n",
       "133324    [KBA05_ANTG1, KBA05_ANTG2, KBA05_ANTG3, KBA05_...\n",
       "147988                                     [W_KEIT_KIND_HH]\n",
       "158064                                      [KKK, REGIOTYP]\n",
       "310267                                           [ALTER_HH]\n",
       "392318                                        [GEBURTSJAHR]\n",
       "476524                                       [KBA05_BAUMAX]\n",
       "584612                                       [KK_KUNDENTYP]\n",
       "685843                                           [AGER_TYP]\n",
       "889061                                           [TITEL_KZ]\n",
       "Name: label, dtype: object"
      ]
     },
     "execution_count": 31,
     "metadata": {},
     "output_type": "execute_result"
    }
   ],
   "source": [
    "pre_post.groupby(['missing_post'])['label'].agg(list)"
   ]
  },
  {
   "cell_type": "code",
   "execution_count": 41,
   "metadata": {},
   "outputs": [],
   "source": [
    "# Remove the outlier columns from the dataset. \n",
    "# (You'll perform other data engineering tasks such as re-encoding and imputation later.)\n",
    "pre_post = pre_post[pre_post['post_percent'] > .2]"
   ]
  },
  {
   "cell_type": "code",
   "execution_count": 43,
   "metadata": {},
   "outputs": [],
   "source": [
    "azdias = azdias.drop(pre_post['label'], axis=1)"
   ]
  },
  {
   "cell_type": "code",
   "execution_count": 44,
   "metadata": {},
   "outputs": [],
   "source": [
    "feat_info_clean = feat_info[feat_info['attribute'].isin(azdias.columns)]"
   ]
  },
  {
   "cell_type": "markdown",
   "metadata": {},
   "source": [
    "#### Discussion 1.1.2: Assess Missing Data in Each Column\n",
    "\n",
    "<i>Comments added below, JS</i>\n",
    "\n",
    "\n",
    "The raw data was decepticely skewed and the distribution of that data would indicate that more valuable information was available than in reality. After replacing the \"irrelevant\" values with NA values, across each column in the dataframe, there was a clearer picture of the data's completeness. \n",
    "\n",
    "Even after the data was clean the data points within the FINANZ (Financial typology) and SEMIO (Personality typology) remained 100% complete, indicating that these are important and potentially valuable for use in predictions downstream. \n",
    "\n",
    "There were other instances of patterns among data point families, where they shared the same number of missing values after data was cleaned. \n",
    "\n",
    "    - CAMEO (Wealth / Life Stage Typology): 99352 missing values across all the underlying data points\n",
    "    - PLZ8 (Macro Cell Features: Housing/Building): 116515 missing values across all the underlying data points\n",
    "    - KBA05 (Micro Cell Features: Housing/Building): 1333324 missing values across all the underlying data points\n",
    "\n",
    "Six columns ('TITEL_KZ', 'AGER_TYP', 'KK_KUNDENTYP', 'KBA05_BAUMAX', 'GEBURTSJAHR', 'ALTER_HH') were dropped in this step as they were missing more than twenty percent of their values with one column ('TITEL_KZ') ranging as high as 99.8%."
   ]
  },
  {
   "cell_type": "markdown",
   "metadata": {},
   "source": [
    "#### Step 1.1.3: Assess Missing Data in Each Row\n",
    "\n",
    "Now, you'll perform a similar assessment for the rows of the dataset. How much data is missing in each row? As with the columns, you should see some groups of points that have a very different numbers of missing values. Divide the data into two subsets: one for data points that are above some threshold for missing values, and a second subset for points below that threshold.\n",
    "\n",
    "In order to know what to do with the outlier rows, we should see if the distribution of data values on columns that are not missing data (or are missing very little data) are similar or different between the two groups. Select at least five of these columns and compare the distribution of values.\n",
    "- You can use seaborn's [`countplot()`](https://seaborn.pydata.org/generated/seaborn.countplot.html) function to create a bar chart of code frequencies and matplotlib's [`subplot()`](https://matplotlib.org/api/_as_gen/matplotlib.pyplot.subplot.html) function to put bar charts for the two subplots side by side.\n",
    "- To reduce repeated code, you might want to write a function that can perform this comparison, taking as one of its arguments a column to be compared.\n",
    "\n",
    "Depending on what you observe in your comparison, this will have implications on how you approach your conclusions later in the analysis. If the distributions of non-missing features look similar between the data with many missing values and the data with few or no missing values, then we could argue that simply dropping those points from the analysis won't present a major issue. On the other hand, if the data with many missing values looks very different from the data with few or no missing values, then we should make a note on those data as special. We'll revisit these data later on. **Either way, you should continue your analysis for now using just the subset of the data with few or no missing values.**"
   ]
  },
  {
   "cell_type": "code",
   "execution_count": 45,
   "metadata": {},
   "outputs": [
    {
     "data": {
      "image/png": "[encoded data removed]",
      "text/plain": [
       "<matplotlib.figure.Figure at 0x7fa11a1bbef0>"
      ]
     },
     "metadata": {
      "needs_background": "light"
     },
     "output_type": "display_data"
    }
   ],
   "source": [
    "# How much data is missing in each row of the dataset?\n",
    "row_pre_nan = azdias.isnull().sum(axis=1)\n",
    "\n",
    "# Ensure that data is coming through as expected\n",
    "plt.hist(row_pre_nan)\n",
    "plt.ylabel('rows')\n",
    "plt.xlabel('columns')\n",
    "plt.show()"
   ]
  },
  {
   "cell_type": "markdown",
   "metadata": {},
   "source": [
    "Based on the distribution of missing values per row, it appears that there are two groupings split by a range of 20- to 30 missing values, so I will take the bottom of this and use 20 missing rows as the cut-off."
   ]
  },
  {
   "cell_type": "code",
   "execution_count": 49,
   "metadata": {},
   "outputs": [],
   "source": [
    "# Write code to divide the data into two subsets based on the number of missing values in each row.\n",
    "\n",
    "azdias_less = azdias[row_pre_nan <= 20]\n",
    "azdias_more = azdias[row_pre_nan > 20]"
   ]
  },
  {
   "cell_type": "code",
   "execution_count": 50,
   "metadata": {},
   "outputs": [],
   "source": [
    "# Compare the distribution of values for at least five columns where there are no or few missing values, \n",
    "# between the two subsets.\n",
    "\n",
    "def comparison(col):\n",
    "    \n",
    "    fig = plt.figure(figsize=(14,4))\n",
    "    ax1 = fig.add_subplot(121)\n",
    "    ax1.title.set_text('Missing less than 5')\n",
    "    \n",
    "    sns.countplot(azdias.loc[azdias_less.index, col])\n",
    "\n",
    "    ax2 = fig.add_subplot(122)\n",
    "    ax2.title.set_text('Missing more than 5')\n",
    "    \n",
    "    sns.countplot(azdias.loc[azdias_more.index, col]);\n",
    "\n",
    "    fig.suptitle(col)\n",
    "    plt.show()"
   ]
  },
  {
   "cell_type": "code",
   "execution_count": 51,
   "metadata": {},
   "outputs": [
    {
     "data": {
      "image/png": "[encoded data removed]",
      "text/plain": [
       "<matplotlib.figure.Figure at 0x7fa11a200da0>"
      ]
     },
     "metadata": {
      "needs_background": "light"
     },
     "output_type": "display_data"
    },
    {
     "data": {
      "image/png": "[encoded data removed]",
      "text/plain": [
       "<matplotlib.figure.Figure at 0x7fa1069d9828>"
      ]
     },
     "metadata": {
      "needs_background": "light"
     },
     "output_type": "display_data"
    },
    {
     "data": {
      "image/png": "[encoded data removed]",
      "text/plain": [
       "<matplotlib.figure.Figure at 0x7fa11b00b6a0>"
      ]
     },
     "metadata": {
      "needs_background": "light"
     },
     "output_type": "display_data"
    },
    {
     "data": {
      "image/png": "[encoded data removed]",
      "text/plain": [
       "<matplotlib.figure.Figure at 0x7fa11a6d35f8>"
      ]
     },
     "metadata": {
      "needs_background": "light"
     },
     "output_type": "display_data"
    },
    {
     "data": {
      "image/png": "[encoded data removed]",
      "text/plain": [
       "<matplotlib.figure.Figure at 0x7fa11a78ab38>"
      ]
     },
     "metadata": {
      "needs_background": "light"
     },
     "output_type": "display_data"
    }
   ],
   "source": [
    "for col in azdias.columns[0:5]:\n",
    "    comparison(col)"
   ]
  },
  {
   "cell_type": "markdown",
   "metadata": {},
   "source": [
    "#### Discussion 1.1.3: Assess Missing Data in Each Row\n",
    "\n",
    "<i>Comments added below, JS</i>\n",
    "\n",
    "While the distributions vary for each row and column combination, the completeness and quality of the rows in the data set only considering rows with less than 20 null values is better for purposes of clustering, in that it is more evenly distributed. \n",
    "\n",
    "It would seem based on the charts above that the rows which are missing more than 20 values are heavily weighted towards one specific value creating a false bias within that feature. An exception from the sample above would be the feature ANDREDE_KZ (Gender) which would appear to be well populated regardless of other features in the row.\n",
    "\n",
    "Based on this analysis it would appear that using this paired down data set would provide more optimal results than using the complete, raw set."
   ]
  },
  {
   "cell_type": "markdown",
   "metadata": {},
   "source": [
    "### Step 1.2: Select and Re-Encode Features\n",
    "\n",
    "Checking for missing data isn't the only way in which you can prepare a dataset for analysis. Since the unsupervised learning techniques to be used will only work on data that is encoded numerically, you need to make a few encoding changes or additional assumptions to be able to make progress. In addition, while almost all of the values in the dataset are encoded using numbers, not all of them represent numeric values. Check the third column of the feature summary (`feat_info`) for a summary of types of measurement.\n",
    "- For numeric and interval data, these features can be kept without changes.\n",
    "- Most of the variables in the dataset are ordinal in nature. While ordinal values may technically be non-linear in spacing, make the simplifying assumption that the ordinal variables can be treated as being interval in nature (that is, kept without any changes).\n",
    "- Special handling may be necessary for the remaining two variable types: categorical, and 'mixed'.\n",
    "\n",
    "In the first two parts of this sub-step, you will perform an investigation of the categorical and mixed-type features and make a decision on each of them, whether you will keep, drop, or re-encode each. Then, in the last part, you will create a new data frame with only the selected and engineered columns.\n",
    "\n",
    "Data wrangling is often the trickiest part of the data analysis process, and there's a lot of it to be done here. But stick with it: once you're done with this step, you'll be ready to get to the machine learning parts of the project!"
   ]
  },
  {
   "cell_type": "code",
   "execution_count": 52,
   "metadata": {},
   "outputs": [
    {
     "data": {
      "text/plain": [
       "type\n",
       "categorical    21\n",
       "interval        1\n",
       "mixed           7\n",
       "numeric         7\n",
       "ordinal        49\n",
       "Name: type, dtype: int64"
      ]
     },
     "execution_count": 52,
     "metadata": {},
     "output_type": "execute_result"
    }
   ],
   "source": [
    "# How many features are there of each data type?\n",
    "feat_info.groupby('type')['type'].agg('count')"
   ]
  },
  {
   "cell_type": "markdown",
   "metadata": {},
   "source": [
    "#### Step 1.2.1: Re-Encode Categorical Features\n",
    "\n",
    "For categorical data, you would ordinarily need to encode the levels as dummy variables. Depending on the number of categories, perform one of the following:\n",
    "- For binary (two-level) categoricals that take numeric values, you can keep them without needing to do anything.\n",
    "- There is one binary variable that takes on non-numeric values. For this one, you need to re-encode the values as numbers or create a dummy variable.\n",
    "- For multi-level categoricals (three or more values), you can choose to encode the values using multiple dummy variables (e.g. via [OneHotEncoder](http://scikit-learn.org/stable/modules/generated/sklearn.preprocessing.OneHotEncoder.html)), or (to keep things straightforward) just drop them from the analysis. As always, document your choices in the Discussion section."
   ]
  },
  {
   "cell_type": "code",
   "execution_count": 53,
   "metadata": {},
   "outputs": [],
   "source": [
    "# Assess categorical variables: which are binary, which are multi-level, and which one needs to be re-encoded?\n",
    "\n",
    "categorical = feat_info_clean[feat_info_clean[\"type\"] == \"categorical\"]\n",
    "binary = [i for i in categorical[\"attribute\"] if azdias_less[i].unique().shape[0] == 2]\n",
    "multi_level = [i for i in categorical[\"attribute\"] if azdias_less[i].unique().shape[0] > 2]"
   ]
  },
  {
   "cell_type": "code",
   "execution_count": 54,
   "metadata": {},
   "outputs": [
    {
     "data": {
      "text/plain": [
       "['ANREDE_KZ', 'GREEN_AVANTGARDE', 'SOHO_KZ', 'OST_WEST_KZ']"
      ]
     },
     "execution_count": 54,
     "metadata": {},
     "output_type": "execute_result"
    }
   ],
   "source": [
    "binary"
   ]
  },
  {
   "cell_type": "code",
   "execution_count": 55,
   "metadata": {},
   "outputs": [
    {
     "data": {
      "text/plain": [
       "['CJT_GESAMTTYP',\n",
       " 'FINANZTYP',\n",
       " 'GFK_URLAUBERTYP',\n",
       " 'LP_FAMILIE_FEIN',\n",
       " 'LP_FAMILIE_GROB',\n",
       " 'LP_STATUS_FEIN',\n",
       " 'LP_STATUS_GROB',\n",
       " 'NATIONALITAET_KZ',\n",
       " 'SHOPPER_TYP',\n",
       " 'VERS_TYP',\n",
       " 'ZABEOTYP',\n",
       " 'GEBAEUDETYP',\n",
       " 'CAMEO_DEUG_2015',\n",
       " 'CAMEO_DEU_2015']"
      ]
     },
     "execution_count": 55,
     "metadata": {},
     "output_type": "execute_result"
    }
   ],
   "source": [
    "multi_level"
   ]
  },
  {
   "cell_type": "code",
   "execution_count": 56,
   "metadata": {},
   "outputs": [],
   "source": [
    "# Re-encode categorical variable(s) to be kept in the analysis.\n",
    "azdias_less = azdias_less.replace({'OST_WEST_KZ': {'W': 0, 'O': 1}})"
   ]
  },
  {
   "cell_type": "markdown",
   "metadata": {},
   "source": [
    "#### Discussion 1.2.1: Re-Encode Categorical Features\n",
    "\n",
    "<i>Comments added below, JS</i>\n",
    "\n",
    "After identifying which of the categorical attributes were binary and which were multi-level, I re-encoded the one binary attribute that was lacking a numerical value. After that step was completed, I attempted to one hot encode the mulit-level/categorical values however after several iterations the results were optimized by dropping these features. Lastly I updated the dataframe of values in which rows are missing less than 5 values."
   ]
  },
  {
   "cell_type": "markdown",
   "metadata": {},
   "source": [
    "#### Step 1.2.2: Engineer Mixed-Type Features\n",
    "\n",
    "There are a handful of features that are marked as \"mixed\" in the feature summary that require special treatment in order to be included in the analysis. There are two in particular that deserve attention; the handling of the rest are up to your own choices:\n",
    "- \"PRAEGENDE_JUGENDJAHRE\" combines information on three dimensions: generation by decade, movement (mainstream vs. avantgarde), and nation (east vs. west). While there aren't enough levels to disentangle east from west, you should create two new variables to capture the other two dimensions: an interval-type variable for decade, and a binary variable for movement.\n",
    "- \"CAMEO_INTL_2015\" combines information on two axes: wealth and life stage. Break up the two-digit codes by their 'tens'-place and 'ones'-place digits into two new ordinal variables (which, for the purposes of this project, is equivalent to just treating them as their raw numeric values).\n",
    "- If you decide to keep or engineer new features around the other mixed-type features, make sure you note your steps in the Discussion section.\n",
    "\n",
    "Be sure to check `Data_Dictionary.md` for the details needed to finish these tasks."
   ]
  },
  {
   "cell_type": "code",
   "execution_count": 57,
   "metadata": {},
   "outputs": [],
   "source": [
    "# Investigate \"PRAEGENDE_JUGENDJAHRE\" and engineer two new variables.\n",
    "ignore = [-1, 0]\n",
    "azdias_less['PRAEGENDE_JUGENDJAHRE'] = azdias_less['PRAEGENDE_JUGENDJAHRE'].apply(lambda x: 0 if x in ignore else x)"
   ]
  },
  {
   "cell_type": "code",
   "execution_count": 58,
   "metadata": {},
   "outputs": [],
   "source": [
    "mainstream = [1, 3, 5, 8, 10, 12, 14]\n",
    "decades = {1:1, 2:1, 3:2, 4:2, 5:3, 6:3, 7:3, 8:4, 9:4, 10:5, 11:5, 12:5, 13:5, 14:6, 15:6}\n",
    "azdias_less['DECADE'] = azdias_less['PRAEGENDE_JUGENDJAHRE'].apply(lambda x: decades.get(x))\n",
    "azdias_less['MOVEMENT'] = azdias_less['PRAEGENDE_JUGENDJAHRE'].apply(lambda x: 0 if x in mainstream else 1)"
   ]
  },
  {
   "cell_type": "code",
   "execution_count": 59,
   "metadata": {},
   "outputs": [],
   "source": [
    "azdias_less['CAMEO_INTL_2015'] = azdias_less['CAMEO_INTL_2015'].replace(np.nan, 0)"
   ]
  },
  {
   "cell_type": "code",
   "execution_count": 60,
   "metadata": {},
   "outputs": [],
   "source": [
    "# Investigate \"CAMEO_INTL_2015\" and engineer two new variables.\n",
    "azdias_less['WEALTH'] = azdias_less['CAMEO_INTL_2015'].astype(str).apply(lambda x: x[0] if x else x)\n",
    "azdias_less['WEALTH'] = azdias_less['WEALTH'].replace('', 0).astype(int)"
   ]
  },
  {
   "cell_type": "code",
   "execution_count": 61,
   "metadata": {},
   "outputs": [],
   "source": [
    "azdias_less['LIFESTAGE'] = azdias_less['CAMEO_INTL_2015'].astype(str).apply(lambda x: x[-1] if x else x)\n",
    "azdias_less['LIFESTAGE'] = azdias_less['LIFESTAGE'].replace('', 0).astype(int)"
   ]
  },
  {
   "cell_type": "markdown",
   "metadata": {},
   "source": [
    "#### Discussion 1.2.2: Engineer Mixed-Type Features\n",
    "\n",
    "<i>Comments added below, JS</i>\n",
    "\n",
    "\n",
    "For the attribute PRAEGENDE_JUGENDJAHRE I started by encoding the irrelevant values (-1, 0) as nan values. I then created new attributes for DECADE (binary) and MOVEMENT (categorical) by mapping the values to a list of values (former) and hot encoding the values (latter) using the information foudn in the data dictionary.\n",
    "\n",
    "For the attribute CAMEO_INTL_2015 I removed the nan values, converted the data type of the values to string from float, split them by position and returned them back to integer."
   ]
  },
  {
   "cell_type": "markdown",
   "metadata": {},
   "source": [
    "#### Step 1.2.3: Complete Feature Selection\n",
    "\n",
    "In order to finish this step up, you need to make sure that your data frame now only has the columns that you want to keep. To summarize, the dataframe should consist of the following:\n",
    "- All numeric, interval, and ordinal type columns from the original dataset.\n",
    "- Binary categorical features (all numerically-encoded).\n",
    "- Engineered features from other multi-level categorical features and mixed features.\n",
    "\n",
    "Make sure that for any new columns that you have engineered, that you've excluded the original columns from the final dataset. Otherwise, their values will interfere with the analysis later on the project. For example, you should not keep \"PRAEGENDE_JUGENDJAHRE\", since its values won't be useful for the algorithm: only the values derived from it in the engineered features you created should be retained. As a reminder, your data should only be from **the subset with few or no missing values**."
   ]
  },
  {
   "cell_type": "code",
   "execution_count": 62,
   "metadata": {},
   "outputs": [],
   "source": [
    "# If there are other re-engineering tasks you need to perform, make sure you\n",
    "# take care of them here. (Dealing with missing data will come in step 2.1.)\n",
    "\n",
    "# Do whatever you need to in order to ensure that the dataframe only contains the columns that should be passed to the algorithm functions.\n",
    "\n",
    "drop_columns = feat_info_clean[feat_info_clean[\"type\"].isin([\"categorical\", \"mixed\"])].attribute\n",
    "azdias_less = azdias_less.drop(list(drop_columns), axis=1)"
   ]
  },
  {
   "cell_type": "markdown",
   "metadata": {},
   "source": [
    "### Step 1.3: Create a Cleaning Function\n",
    "\n",
    "Even though you've finished cleaning up the general population demographics data, it's important to look ahead to the future and realize that you'll need to perform the same cleaning steps on the customer demographics data. In this substep, complete the function below to execute the main feature selection, encoding, and re-engineering steps you performed above. Then, when it comes to looking at the customer data in Step 3, you can just run this function on that DataFrame to get the trimmed dataset in a single step."
   ]
  },
  {
   "cell_type": "code",
   "execution_count": 112,
   "metadata": {},
   "outputs": [],
   "source": [
    "def clean_data(df, feat_info):\n",
    "    \"\"\"\n",
    "    Perform feature trimming, re-encoding, and engineering for demographics data\n",
    "    \n",
    "    INPUT: \n",
    "        Demographics DataFrame\n",
    "    OUTPUT: \n",
    "        Trimmed and cleaned demographics DataFrame\n",
    "    \"\"\"\n",
    "    \n",
    "    ignore = [-1, 0]\n",
    "    mainstream = [1, 3, 5, 8, 10, 12, 14]\n",
    "    decades = {1: 1, 2: 1, 3: 2, 4: 2, 5: 3, 6: 3, 7: 3, 8: 4, 9: 4, 10: 5, 11: 5, 12: 5, 13: 5, 14: 6, 15: 6}\n",
    "\n",
    "    pre = df.isnull().sum()\n",
    "\n",
    "    for index in range(feat_info.shape[0]):\n",
    "        missing_unknown = feat_info.iloc[index]['missing_or_unknown']\n",
    "        missing_unknown = missing_unknown.strip('[').strip(']').split(sep=',')\n",
    "        missing_unknown = [int(i) if (i != 'X' and i != 'XX' and i != '') else i for i in missing_unknown]\n",
    "\n",
    "        if missing_unknown != ['']:\n",
    "            df = df.replace({feat_info.iloc[index]['attribute']: missing_unknown}, np.nan)\n",
    "\n",
    "    post_nan = df.isnull().sum()\n",
    "    post = pd.Series(post_nan, name='missing_post')\n",
    "\n",
    "    pre_post = pd.concat([pre, post], axis=1)\n",
    "    pre_post['post_percent'] = np.round(pre_post['missing_post'] / df.shape[0], 4)\n",
    "    pre_post = pre_post[pre_post['post_percent'] > .3]\n",
    "    df = df.drop(pre_post.index, axis=1)\n",
    "    \n",
    "    \n",
    "    df = df[df.isnull().sum(axis=1) <= 20]\n",
    "    feat_info = feat_info[feat_info['attribute'].isin(df.columns)]\n",
    "    \n",
    "    df = df.replace({'OST_WEST_KZ': {'W': 0, 'O': 1}})\n",
    "\n",
    "    df['PRAEGENDE_JUGENDJAHRE'].apply(lambda x: 0 if x in ignore else x)\n",
    "    df['CAMEO_INTL_2015'] = df['CAMEO_INTL_2015'].replace(np.nan, 0)\n",
    "\n",
    "    df['DECADE'] = df['PRAEGENDE_JUGENDJAHRE'].apply(lambda x: decades.get(x, ''))\n",
    "    df['DECADE'] = df['DECADE'].replace('', 0).astype(int)\n",
    "    df['MOVEMENT'] = df['PRAEGENDE_JUGENDJAHRE'].apply(lambda x: 0 if x in mainstream else 1).astype(int)\n",
    "\n",
    "    df['WEALTH'] = df['CAMEO_INTL_2015'].astype(str).apply(lambda x: x[0] if x else x)\n",
    "    df['WEALTH'] = df['WEALTH'].replace('', 0).astype(int)\n",
    "    \n",
    "    df['LIFESTAGE'] = df['CAMEO_INTL_2015'].astype(str).apply(lambda x: x[-1] if x else x)\n",
    "    df['LIFESTAGE'] = df['LIFESTAGE'].replace('', 0).astype(int)\n",
    "    \n",
    "    categorical = feat_info[feat_info[\"type\"] == \"categorical\"]\n",
    "    binary = [i for i in categorical[\"attribute\"] if df[i].unique().shape[0] == 2]\n",
    "    drop_columns = feat_info[feat_info[\"type\"].isin([\"categorical\", \"mixed\"])].attribute\n",
    "\n",
    "    df = df.drop(list(drop_columns), axis=1)\n",
    "                             \n",
    "    return df"
   ]
  },
  {
   "cell_type": "markdown",
   "metadata": {},
   "source": [
    "*All changes and functions made to preprocessing above have been made in the clean_data function as well."
   ]
  },
  {
   "cell_type": "markdown",
   "metadata": {},
   "source": [
    "## Step 2: Feature Transformation\n",
    "\n",
    "### Step 2.1: Apply Feature Scaling\n",
    "\n",
    "Before we apply dimensionality reduction techniques to the data, we need to perform feature scaling so that the principal component vectors are not influenced by the natural differences in scale for features. Starting from this part of the project, you'll want to keep an eye on the [API reference page for sklearn](http://scikit-learn.org/stable/modules/classes.html) to help you navigate to all of the classes and functions that you'll need. In this substep, you'll need to check the following:\n",
    "\n",
    "- sklearn requires that data not have missing values in order for its estimators to work properly. So, before applying the scaler to your data, make sure that you've cleaned the DataFrame of the remaining missing values. This can be as simple as just removing all data points with missing data, or applying an [Imputer](http://scikit-learn.org/stable/modules/generated/sklearn.preprocessing.Imputer.html) to replace all missing values. You might also try a more complicated procedure where you temporarily remove missing values in order to compute the scaling parameters before re-introducing those missing values and applying imputation. Think about how much missing data you have and what possible effects each approach might have on your analysis, and justify your decision in the discussion section below.\n",
    "- For the actual scaling function, a [StandardScaler](http://scikit-learn.org/stable/modules/generated/sklearn.preprocessing.StandardScaler.html) instance is suggested, scaling each feature to mean 0 and standard deviation 1.\n",
    "- For these classes, you can make use of the `.fit_transform()` method to both fit a procedure to the data as well as apply the transformation to the data at the same time. Don't forget to keep the fit sklearn objects handy, since you'll be applying them to the customer demographics data towards the end of the project."
   ]
  },
  {
   "cell_type": "code",
   "execution_count": 64,
   "metadata": {},
   "outputs": [],
   "source": [
    "az = azdias_less.copy()"
   ]
  },
  {
   "cell_type": "code",
   "execution_count": 74,
   "metadata": {},
   "outputs": [
    {
     "data": {
      "text/plain": [
       "<matplotlib.axes._subplots.AxesSubplot at 0x7fa10c67de48>"
      ]
     },
     "execution_count": 74,
     "metadata": {},
     "output_type": "execute_result"
    },
    {
     "data": {
      "image/png": "[encoded data removed]",
      "text/plain": [
       "<matplotlib.figure.Figure at 0x7fa10c69a0f0>"
      ]
     },
     "metadata": {
      "needs_background": "light"
     },
     "output_type": "display_data"
    }
   ],
   "source": [
    "az['KBA05_ANTG1'].hist()"
   ]
  },
  {
   "cell_type": "code",
   "execution_count": 76,
   "metadata": {},
   "outputs": [
    {
     "data": {
      "text/plain": [
       "<matplotlib.axes._subplots.AxesSubplot at 0x7fa10c5b2400>"
      ]
     },
     "execution_count": 76,
     "metadata": {},
     "output_type": "execute_result"
    },
    {
     "data": {
      "image/png": "[encoded data removed]",
      "text/plain": [
       "<matplotlib.figure.Figure at 0x7fa10c572400>"
      ]
     },
     "metadata": {
      "needs_background": "light"
     },
     "output_type": "display_data"
    }
   ],
   "source": [
    "az['WOHNDAUER_2008'].hist()"
   ]
  },
  {
   "cell_type": "code",
   "execution_count": 84,
   "metadata": {},
   "outputs": [
    {
     "data": {
      "text/plain": [
       "<matplotlib.axes._subplots.AxesSubplot at 0x7fa10c3c5a58>"
      ]
     },
     "execution_count": 84,
     "metadata": {},
     "output_type": "execute_result"
    },
    {
     "data": {
      "image/png": "[encoded data removed]",
      "text/plain": [
       "<matplotlib.figure.Figure at 0x7fa10c44f048>"
      ]
     },
     "metadata": {
      "needs_background": "light"
     },
     "output_type": "display_data"
    }
   ],
   "source": [
    "az['HEALTH_TYP'].hist()"
   ]
  },
  {
   "cell_type": "code",
   "execution_count": 65,
   "metadata": {},
   "outputs": [],
   "source": [
    "# If you've not yet cleaned the dataset of all NaN values, then investigate and do that now.\n",
    "# Apply feature scaling to the general population demographics data.\n",
    "imputer = Imputer(strategy='most_frequent')\n",
    "imputed_features = imputer.fit_transform(az)"
   ]
  },
  {
   "cell_type": "code",
   "execution_count": 78,
   "metadata": {},
   "outputs": [],
   "source": [
    "scaler = StandardScaler()\n",
    "standardized_features = scaler.fit_transform(imputed_features)"
   ]
  },
  {
   "cell_type": "markdown",
   "metadata": {},
   "source": [
    "### Discussion 2.1: Apply Feature Scaling\n",
    "\n",
    "<i>Comments added below, JS</i>\n",
    "\n",
    "I opted to ensure that there were no missing values using the Imputer class populating with most frequent value as mean and median are less effect on binary data. Initially I opted to use Standard Scaler but after sampling the distributions of various columns (some listed above) I switch strategies to using a MinMaxScaler. It would appear that there is enough data that is non-Gaussian, that it makes sense to use the MinMaxScaler so as to maintain the shape of the data."
   ]
  },
  {
   "cell_type": "markdown",
   "metadata": {},
   "source": [
    "### Step 2.2: Perform Dimensionality Reduction\n",
    "\n",
    "On your scaled data, you are now ready to apply dimensionality reduction techniques.\n",
    "\n",
    "- Use sklearn's [PCA](http://scikit-learn.org/stable/modules/generated/sklearn.decomposition.PCA.html) class to apply principal component analysis on the data, thus finding the vectors of maximal variance in the data. To start, you should not set any parameters (so all components are computed) or set a number of components that is at least half the number of features (so there's enough features to see the general trend in variability).\n",
    "- Check out the ratio of variance explained by each principal component as well as the cumulative variance explained. Try plotting the cumulative or sequential values using matplotlib's [`plot()`](https://matplotlib.org/api/_as_gen/matplotlib.pyplot.plot.html) function. Based on what you find, select a value for the number of transformed features you'll retain for the clustering part of the project.\n",
    "- Once you've made a choice for the number of components to keep, make sure you re-fit a PCA instance to perform the decided-on transformation."
   ]
  },
  {
   "cell_type": "code",
   "execution_count": 79,
   "metadata": {},
   "outputs": [],
   "source": [
    "def scree_plot(pca):\n",
    "\n",
    "    num_components=len(pca.explained_variance_ratio_)\n",
    "    ind = np.arange(num_components)\n",
    "    vals = pca.explained_variance_ratio_\n",
    " \n",
    "    plt.figure(figsize=(10, 6))\n",
    "    ax = plt.subplot(111)\n",
    "    cumvals = np.cumsum(vals)\n",
    "    ax.bar(ind, vals)\n",
    "    ax.plot(ind, cumvals)\n",
    "    for i in range(num_components):\n",
    "        ax.annotate(r\"%s%%\" % ((str(vals[i]*100)[:4])), (ind[i]+0.2, vals[i]), va=\"bottom\", ha=\"center\", fontsize=12)\n",
    " \n",
    "    ax.xaxis.set_tick_params(width=0)\n",
    "    ax.yaxis.set_tick_params(width=2, length=12)\n",
    " \n",
    "    ax.set_xlabel(\"Principal Component\")\n",
    "    ax.set_ylabel(\"Variance Explained (%)\")\n",
    "    plt.title('Explained Variance Per Principal Component')\n",
    "    "
   ]
  },
  {
   "cell_type": "code",
   "execution_count": 80,
   "metadata": {},
   "outputs": [
    {
     "data": {
      "image/png": "[encoded data removed]",
      "text/plain": [
       "<matplotlib.figure.Figure at 0x7fa10c5725c0>"
      ]
     },
     "metadata": {
      "needs_background": "light"
     },
     "output_type": "display_data"
    }
   ],
   "source": [
    "# Apply PCA to the data.\n",
    "pca_raw = PCA()\n",
    "pca_features = pca_raw.fit(standardized_features)\n",
    "scree_plot(pca_raw)"
   ]
  },
  {
   "cell_type": "code",
   "execution_count": 81,
   "metadata": {},
   "outputs": [
    {
     "data": {
      "image/png": "[encoded data removed]",
      "text/plain": [
       "<matplotlib.figure.Figure at 0x7fa10c499518>"
      ]
     },
     "metadata": {
      "needs_background": "light"
     },
     "output_type": "display_data"
    }
   ],
   "source": [
    "# Exploring PCA variance explainiation distributions\n",
    "pca_5 = PCA(n_components=5)\n",
    "pca_5_features = pca_5.fit_transform(standardized_features)\n",
    "scree_plot(pca_5)"
   ]
  },
  {
   "cell_type": "code",
   "execution_count": 85,
   "metadata": {},
   "outputs": [
    {
     "data": {
      "image/png": "[encoded data removed]",
      "text/plain": [
       "<matplotlib.figure.Figure at 0x7fa10c4d32b0>"
      ]
     },
     "metadata": {
      "needs_background": "light"
     },
     "output_type": "display_data"
    }
   ],
   "source": [
    "\n",
    "pca = PCA(n_components=30)\n",
    "pca_features = pca.fit_transform(standardized_features)\n",
    "scree_plot(pca)"
   ]
  },
  {
   "cell_type": "code",
   "execution_count": 86,
   "metadata": {},
   "outputs": [
    {
     "name": "stdout",
     "output_type": "stream",
     "text": [
      "PCA Model accounts for 0.9155978344745345 of variance in data\n"
     ]
    }
   ],
   "source": [
    "print(f\"PCA Model accounts for {pca.explained_variance_ratio_.sum()} of variance in data\")"
   ]
  },
  {
   "cell_type": "markdown",
   "metadata": {},
   "source": [
    "### Discussion 2.2: Perform Dimensionality Reduction\n",
    "\n",
    "<i>Comments added below, JS</i>\n",
    "\n",
    "After doing a variety of analysis (some of which is captured above) I choose to use 30 components for the next step. While a high number it accounts for 91% of the variance, and elimiates just over 50% of overall features."
   ]
  },
  {
   "cell_type": "markdown",
   "metadata": {},
   "source": [
    "### Step 2.3: Interpret Principal Components\n",
    "\n",
    "Now that we have our transformed principal components, it's a nice idea to check out the weight of each variable on the first few components to see if they can be interpreted in some fashion.\n",
    "\n",
    "As a reminder, each principal component is a unit vector that points in the direction of highest variance (after accounting for the variance captured by earlier principal components). The further a weight is from zero, the more the principal component is in the direction of the corresponding feature. If two features have large weights of the same sign (both positive or both negative), then increases in one tend expect to be associated with increases in the other. To contrast, features with different signs can be expected to show a negative correlation: increases in one variable should result in a decrease in the other.\n",
    "\n",
    "- To investigate the features, you should map each weight to their corresponding feature name, then sort the features according to weight. The most interesting features for each principal component, then, will be those at the beginning and end of the sorted list. Use the data dictionary document to help you understand these most prominent features, their relationships, and what a positive or negative value on the principal component might indicate.\n",
    "- You should investigate and interpret feature associations from the first three principal components in this substep. To help facilitate this, you should write a function that you can call at any time to print the sorted list of feature weights, for the *i*-th principal component. This might come in handy in the next step of the project, when you interpret the tendencies of the discovered clusters."
   ]
  },
  {
   "cell_type": "code",
   "execution_count": 88,
   "metadata": {},
   "outputs": [],
   "source": [
    "# Map weights for the first principal component to corresponding feature names\n",
    "# and then print the linked values, sorted by weight.\n",
    "# HINT: Try defining a function here or in a new cell that you can reuse in the\n",
    "# other cells.\n",
    "\n",
    "def interpret_pca(n, pca):\n",
    "    \n",
    "    components = pd.DataFrame(pca.components_, columns=list(az.columns))\n",
    "    weights = components.iloc[n].sort_values(ascending=False)\n",
    "    \n",
    "    return weights"
   ]
  },
  {
   "cell_type": "code",
   "execution_count": 89,
   "metadata": {},
   "outputs": [
    {
     "data": {
      "text/plain": [
       "FINANZ_SPARER            0.276210\n",
       "SEMIO_REL                0.196225\n",
       "SEMIO_PFLICHT            0.190728\n",
       "PLZ8_ANTG4               0.189994\n",
       "FINANZ_UNAUFFAELLIGER    0.183648\n",
       "DECADE                   0.181936\n",
       "FINANZ_ANLEGER           0.181354\n",
       "PLZ8_ANTG3               0.176201\n",
       "HH_EINKOMMEN_SCORE       0.161698\n",
       "SEMIO_TRADV              0.158461\n",
       "EWDICHTE                 0.157670\n",
       "WEALTH                   0.147200\n",
       "SEMIO_RAT                0.139944\n",
       "SEMIO_KULT               0.139465\n",
       "ORTSGR_KLS9              0.132987\n",
       "SEMIO_MAT                0.128614\n",
       "SEMIO_FAM                0.127659\n",
       "FINANZ_HAUSBAUER         0.119625\n",
       "KBA05_ANTG3              0.119120\n",
       "KBA05_ANTG4              0.111710\n",
       "RELAT_AB                 0.105978\n",
       "PLZ8_ANTG2               0.082130\n",
       "ARBEIT                   0.080895\n",
       "HEALTH_TYP               0.073882\n",
       "SEMIO_SOZ                0.065997\n",
       "REGIOTYP                 0.049730\n",
       "KKK                      0.037642\n",
       "PLZ8_HHZ                 0.028196\n",
       "ONLINE_AFFINITAET        0.025362\n",
       "KBA05_ANTG2              0.014585\n",
       "SEMIO_KAEM               0.013001\n",
       "SEMIO_DOM                0.011611\n",
       "ANZ_HAUSHALTE_AKTIV      0.007821\n",
       "ANZ_HH_TITEL             0.000658\n",
       "ANZ_TITEL               -0.000350\n",
       "ANZ_PERSONEN            -0.003624\n",
       "MIN_GEBAEUDEJAHR        -0.007479\n",
       "W_KEIT_KIND_HH          -0.016300\n",
       "SEMIO_KRIT              -0.022755\n",
       "KBA13_ANZAHL_PKW        -0.023944\n",
       "SEMIO_VERT              -0.030356\n",
       "WOHNDAUER_2008          -0.057497\n",
       "GEBAEUDETYP_RASTER      -0.062182\n",
       "RETOURTYP_BK_S          -0.100432\n",
       "KONSUMNAEHE             -0.101320\n",
       "PLZ8_GBZ                -0.105374\n",
       "LIFESTAGE               -0.106499\n",
       "BALLRAUM                -0.110716\n",
       "INNENSTADT              -0.112171\n",
       "MOVEMENT                -0.112291\n",
       "PLZ8_ANTG1              -0.128323\n",
       "SEMIO_ERL               -0.141311\n",
       "SEMIO_LUST              -0.157000\n",
       "MOBI_REGIO              -0.164906\n",
       "KBA05_GBZ               -0.172078\n",
       "KBA05_ANTG1             -0.192599\n",
       "FINANZ_VORSORGER        -0.219097\n",
       "ALTERSKATEGORIE_GROB    -0.228063\n",
       "FINANZ_MINIMALIST       -0.261983\n",
       "Name: 0, dtype: float64"
      ]
     },
     "execution_count": 89,
     "metadata": {},
     "output_type": "execute_result"
    }
   ],
   "source": [
    "interpret_pca(0, pca)"
   ]
  },
  {
   "cell_type": "code",
   "execution_count": 90,
   "metadata": {},
   "outputs": [
    {
     "data": {
      "text/plain": [
       "PLZ8_ANTG4               0.217546\n",
       "EWDICHTE                 0.200492\n",
       "PLZ8_ANTG3               0.200262\n",
       "FINANZ_HAUSBAUER         0.200109\n",
       "ALTERSKATEGORIE_GROB     0.193205\n",
       "FINANZ_VORSORGER         0.182473\n",
       "RETOURTYP_BK_S           0.172758\n",
       "ORTSGR_KLS9              0.165026\n",
       "WEALTH                   0.153128\n",
       "SEMIO_ERL                0.150283\n",
       "SEMIO_LUST               0.147889\n",
       "W_KEIT_KIND_HH           0.140720\n",
       "HH_EINKOMMEN_SCORE       0.138984\n",
       "KBA05_ANTG4              0.135366\n",
       "RELAT_AB                 0.134761\n",
       "KBA05_ANTG3              0.119865\n",
       "ARBEIT                   0.100727\n",
       "SEMIO_KAEM               0.095869\n",
       "PLZ8_ANTG2               0.094521\n",
       "SEMIO_KRIT               0.078420\n",
       "SEMIO_DOM                0.051389\n",
       "REGIOTYP                 0.035755\n",
       "PLZ8_HHZ                 0.030662\n",
       "WOHNDAUER_2008           0.021103\n",
       "KKK                      0.015318\n",
       "ANZ_HAUSHALTE_AKTIV      0.009323\n",
       "KBA05_ANTG2              0.005640\n",
       "ANZ_HH_TITEL             0.001597\n",
       "ANZ_TITEL                0.000196\n",
       "ANZ_PERSONEN            -0.007012\n",
       "MIN_GEBAEUDEJAHR        -0.020439\n",
       "KBA13_ANZAHL_PKW        -0.029617\n",
       "FINANZ_MINIMALIST       -0.036105\n",
       "HEALTH_TYP              -0.048663\n",
       "LIFESTAGE               -0.053011\n",
       "SEMIO_SOZ               -0.054885\n",
       "SEMIO_VERT              -0.056937\n",
       "MOVEMENT                -0.062743\n",
       "GEBAEUDETYP_RASTER      -0.066950\n",
       "SEMIO_MAT               -0.100915\n",
       "SEMIO_RAT               -0.103749\n",
       "SEMIO_FAM               -0.110605\n",
       "KONSUMNAEHE             -0.117309\n",
       "PLZ8_GBZ                -0.121028\n",
       "INNENSTADT              -0.139175\n",
       "PLZ8_ANTG1              -0.143043\n",
       "BALLRAUM                -0.143524\n",
       "SEMIO_KULT              -0.149726\n",
       "SEMIO_PFLICHT           -0.150479\n",
       "SEMIO_TRADV             -0.154343\n",
       "DECADE                  -0.164578\n",
       "MOBI_REGIO              -0.164818\n",
       "ONLINE_AFFINITAET       -0.166451\n",
       "SEMIO_REL               -0.170306\n",
       "FINANZ_SPARER           -0.180455\n",
       "KBA05_ANTG1             -0.188325\n",
       "KBA05_GBZ               -0.190235\n",
       "FINANZ_UNAUFFAELLIGER   -0.195278\n",
       "FINANZ_ANLEGER          -0.199877\n",
       "Name: 1, dtype: float64"
      ]
     },
     "execution_count": 90,
     "metadata": {},
     "output_type": "execute_result"
    }
   ],
   "source": [
    "# Map weights for the second principal component to corresponding feature names\n",
    "# and then print the linked values, sorted by weight.\n",
    "interpret_pca(1, pca)"
   ]
  },
  {
   "cell_type": "code",
   "execution_count": 91,
   "metadata": {},
   "outputs": [
    {
     "data": {
      "text/plain": [
       "SEMIO_VERT               0.382373\n",
       "SEMIO_SOZ                0.305977\n",
       "SEMIO_FAM                0.302464\n",
       "SEMIO_KULT               0.296986\n",
       "FINANZ_MINIMALIST        0.166162\n",
       "SEMIO_REL                0.125808\n",
       "RETOURTYP_BK_S           0.114427\n",
       "SEMIO_MAT                0.100716\n",
       "W_KEIT_KIND_HH           0.089269\n",
       "FINANZ_VORSORGER         0.082085\n",
       "EWDICHTE                 0.056624\n",
       "MOVEMENT                 0.056011\n",
       "PLZ8_ANTG4               0.054423\n",
       "PLZ8_ANTG3               0.048118\n",
       "ORTSGR_KLS9              0.046467\n",
       "SEMIO_LUST               0.040986\n",
       "RELAT_AB                 0.034404\n",
       "ALTERSKATEGORIE_GROB     0.033776\n",
       "ARBEIT                   0.025466\n",
       "KBA05_ANTG4              0.024904\n",
       "PLZ8_ANTG2               0.022571\n",
       "WEALTH                   0.022052\n",
       "WOHNDAUER_2008           0.017681\n",
       "KBA05_ANTG3              0.008893\n",
       "PLZ8_HHZ                 0.007664\n",
       "ANZ_HAUSHALTE_AKTIV      0.001623\n",
       "ANZ_TITEL                0.000409\n",
       "ANZ_HH_TITEL             0.000368\n",
       "ANZ_PERSONEN            -0.000458\n",
       "MIN_GEBAEUDEJAHR        -0.003429\n",
       "KBA05_ANTG2             -0.007870\n",
       "KBA13_ANZAHL_PKW        -0.008588\n",
       "REGIOTYP                -0.009813\n",
       "LIFESTAGE               -0.012754\n",
       "KKK                     -0.021378\n",
       "KBA05_ANTG1             -0.021389\n",
       "GEBAEUDETYP_RASTER      -0.022151\n",
       "MOBI_REGIO              -0.022724\n",
       "KBA05_GBZ               -0.024693\n",
       "HH_EINKOMMEN_SCORE      -0.025660\n",
       "PLZ8_GBZ                -0.030146\n",
       "SEMIO_TRADV             -0.030794\n",
       "KONSUMNAEHE             -0.032414\n",
       "SEMIO_PFLICHT           -0.034177\n",
       "PLZ8_ANTG1              -0.034653\n",
       "ONLINE_AFFINITAET       -0.036226\n",
       "HEALTH_TYP              -0.042276\n",
       "INNENSTADT              -0.044494\n",
       "BALLRAUM                -0.048902\n",
       "FINANZ_HAUSBAUER        -0.063343\n",
       "DECADE                  -0.077053\n",
       "FINANZ_UNAUFFAELLIGER   -0.079590\n",
       "FINANZ_SPARER           -0.095179\n",
       "SEMIO_RAT               -0.162855\n",
       "FINANZ_ANLEGER          -0.210876\n",
       "SEMIO_ERL               -0.219172\n",
       "SEMIO_KRIT              -0.285190\n",
       "SEMIO_DOM               -0.327167\n",
       "SEMIO_KAEM              -0.359881\n",
       "Name: 2, dtype: float64"
      ]
     },
     "execution_count": 91,
     "metadata": {},
     "output_type": "execute_result"
    }
   ],
   "source": [
    "# Map weights for the third principal component to corresponding feature names\n",
    "# and then print the linked values, sorted by weight.\n",
    "interpret_pca(2, pca)"
   ]
  },
  {
   "cell_type": "markdown",
   "metadata": {},
   "source": [
    "### Discussion 2.3: Interpret Principal Components\n",
    "\n",
    "<h3>PC1</h3>\n",
    "\n",
    "Top Features: \n",
    "\n",
    "    - FINANZ_SPARER (Financial Typology): \n",
    "        The median value (3) indicates an average inclination towards being a money saver\n",
    "    - SEMIO_REL (Personality Typology): \n",
    "        The median value (4) indicates an average affinity for being religious\n",
    "        \n",
    "Bottom Features:\n",
    "\n",
    "    - ALTERSKATEGORIE_GROB (Estimated age based on given name analysis): \n",
    "        The median value (3) indicates an average age of 46 - 60 years old\n",
    "    - FINANZ_MINIMALIST (Financial Typology): \n",
    "        The median value (3) indicates average allocation of low financial interest\n",
    "        \n",
    "\n",
    "<h3>PC2</h3>\n",
    "\n",
    "Top Features: \n",
    "\n",
    "    - PLZ8_ANTG4 (Number of 10+ family houses in the PLZ8 region): \n",
    "       The median value (1) indicates a lower number of 10+ family houses\n",
    "    - EWDICHTE (Density of households per square kilometer)\n",
    "       The median value (4) indicates 150 - 319 households per km^2\n",
    "       \n",
    "Bottom Features:\n",
    "\n",
    "    - FINANZ_UNAUFFAELLIGER (Financial Typology): \n",
    "        The median value (2) indicates a high number of people are financially inconspicuous\n",
    "    - FINANZ_ANLEGER (Financial Typology)\n",
    "        The median value (3) indicates people are average investors\n",
    "   \n",
    "   \n",
    "<h3>PC3</h3>\n",
    "\n",
    "Top Features: \n",
    "\n",
    "    - SEMIO_VERT (Personality typology, for each dimension: dreamful)\n",
    "        The median value (5) indicates low affinity for being dreamful\n",
    "    - SEMIO_SOZ (Personality typology, for each dimension)\n",
    "        The median value (4) indicates average affinity for being socially-minded\n",
    "    \n",
    "Bottom Features:\n",
    "\n",
    "    - SEMIO_DOM (Personality typology, for each dimension)\n",
    "        The median value (5) indicates low affinity being dominant-minded\n",
    "    - SEMIO_KAEM (Personality typology, for each dimension)\n",
    "        The median value (4) indicates average affinity for having a combative attitude\n"
   ]
  },
  {
   "cell_type": "markdown",
   "metadata": {},
   "source": [
    "## Step 3: Clustering\n",
    "\n",
    "### Step 3.1: Apply Clustering to General Population\n",
    "\n",
    "You've assessed and cleaned the demographics data, then scaled and transformed them. Now, it's time to see how the data clusters in the principal components space. In this substep, you will apply k-means clustering to the dataset and use the average within-cluster distances from each point to their assigned cluster's centroid to decide on a number of clusters to keep.\n",
    "\n",
    "- Use sklearn's [KMeans](http://scikit-learn.org/stable/modules/generated/sklearn.cluster.KMeans.html#sklearn.cluster.KMeans) class to perform k-means clustering on the PCA-transformed data.\n",
    "- Then, compute the average difference from each point to its assigned cluster's center. **Hint**: The KMeans object's `.score()` method might be useful here, but note that in sklearn, scores tend to be defined so that larger is better. Try applying it to a small, toy dataset, or use an internet search to help your understanding.\n",
    "- Perform the above two steps for a number of different cluster counts. You can then see how the average distance decreases with an increasing number of clusters. However, each additional cluster provides a smaller net benefit. Use this fact to select a final number of clusters in which to group the data. **Warning**: because of the large size of the dataset, it can take a long time for the algorithm to resolve. The more clusters to fit, the longer the algorithm will take. You should test for cluster counts through at least 10 clusters to get the full picture, but you shouldn't need to test for a number of clusters above about 30.\n",
    "- Once you've selected a final number of clusters to use, re-fit a KMeans instance to perform the clustering operation. Make sure that you also obtain the cluster assignments for the general demographics data, since you'll be using them in the final Step 3.3."
   ]
  },
  {
   "cell_type": "code",
   "execution_count": 283,
   "metadata": {},
   "outputs": [
    {
     "name": "stdout",
     "output_type": "stream",
     "text": [
      "Calculating K Means with 1 clusters\n",
      "Calculating K Means with 2 clusters\n",
      "Calculating K Means with 3 clusters\n",
      "Calculating K Means with 4 clusters\n",
      "Calculating K Means with 5 clusters\n",
      "Calculating K Means with 6 clusters\n",
      "Calculating K Means with 7 clusters\n",
      "Calculating K Means with 8 clusters\n",
      "Calculating K Means with 9 clusters\n",
      "Calculating K Means with 10 clusters\n",
      "Calculating K Means with 11 clusters\n",
      "Calculating K Means with 12 clusters\n",
      "Calculating K Means with 13 clusters\n",
      "Calculating K Means with 14 clusters\n",
      "Calculating K Means with 15 clusters\n",
      "Calculating K Means with 16 clusters\n",
      "Calculating K Means with 17 clusters\n",
      "Calculating K Means with 18 clusters\n",
      "Calculating K Means with 19 clusters\n"
     ]
    },
    {
     "data": {
      "image/png": "[encoded data removed]",
      "text/plain": [
       "<matplotlib.figure.Figure at 0x7f87c6541080>"
      ]
     },
     "metadata": {
      "needs_background": "light"
     },
     "output_type": "display_data"
    }
   ],
   "source": [
    "# Over a number of different cluster counts run k-means clustering on the data and compute the average \n",
    "# within-cluster distances.\n",
    "scores = []\n",
    "iterations = list(range(1,20))\n",
    "\n",
    "for i in kmeans:\n",
    "    print(f\"Calculating K Means with {i} clusters\")\n",
    "    model = KMeans(n_clusters=i).fit(pca_features)\n",
    "    scores.append(np.abs(model.score(pca_features)))\n",
    "    \n",
    "plt.plot(iterations, scores, linestyle='--', marker='o');\n",
    "plt.xlabel('K Means');\n",
    "plt.ylabel('Score');\n",
    "plt.title('Score vs. Number of clusters');"
   ]
  },
  {
   "cell_type": "code",
   "execution_count": 105,
   "metadata": {},
   "outputs": [],
   "source": [
    "kmeans_model = KMeans(n_clusters=13).fit(pca_features)\n",
    "kmeans_final = np.abs(kmeans_model.score(pca_features))"
   ]
  },
  {
   "cell_type": "code",
   "execution_count": 106,
   "metadata": {},
   "outputs": [],
   "source": [
    "azdias_kmeans = kmeans_model.predict(pca_features)"
   ]
  },
  {
   "cell_type": "markdown",
   "metadata": {},
   "source": [
    "### Discussion 3.1: Apply Clustering to General Population\n",
    "\n",
    "While the kmeans distribution is more slope like, there is a slight increase at 12 clusters followed by a decrease at 13, so I will proceed with 13 clusters."
   ]
  },
  {
   "cell_type": "markdown",
   "metadata": {},
   "source": [
    "### Step 3.2: Apply All Steps to the Customer Data\n",
    "\n",
    "Now that you have clusters and cluster centers for the general population, it's time to see how the customer data maps on to those clusters. Take care to not confuse this for re-fitting all of the models to the customer data. Instead, you're going to use the fits from the general population to clean, transform, and cluster the customer data. In the last step of the project, you will interpret how the general population fits apply to the customer data.\n",
    "\n",
    "- Don't forget when loading in the customers data, that it is semicolon (`;`) delimited.\n",
    "- Apply the same feature wrangling, selection, and engineering steps to the customer demographics using the `clean_data()` function you created earlier. (You can assume that the customer demographics data has similar meaning behind missing data patterns as the general demographics data.)\n",
    "- Use the sklearn objects from the general demographics data, and apply their transformations to the customers data. That is, you should not be using a `.fit()` or `.fit_transform()` method to re-fit the old objects, nor should you be creating new sklearn objects! Carry the data through the feature scaling, PCA, and clustering steps, obtaining cluster assignments for all of the data in the customer demographics data."
   ]
  },
  {
   "cell_type": "code",
   "execution_count": 113,
   "metadata": {},
   "outputs": [],
   "source": [
    "# Load in the customer demographics data.\n",
    "customers_raw = pd.read_csv('Udacity_CUSTOMERS_Subset.csv',  sep=';')"
   ]
  },
  {
   "cell_type": "code",
   "execution_count": 114,
   "metadata": {},
   "outputs": [],
   "source": [
    "# Apply preprocessing, feature transformation, and clustering from the general\n",
    "# demographics onto the customer data, obtaining cluster predictions for the\n",
    "# customer demographics data.\n",
    "customers = clean_data(customers_raw, feat_info)"
   ]
  },
  {
   "cell_type": "code",
   "execution_count": 115,
   "metadata": {},
   "outputs": [
    {
     "data": {
      "text/plain": [
       "{'KKK', 'REGIOTYP'}"
      ]
     },
     "execution_count": 115,
     "metadata": {},
     "output_type": "execute_result"
    }
   ],
   "source": [
    "set(az.columns) - set(customers.columns)"
   ]
  },
  {
   "cell_type": "code",
   "execution_count": 116,
   "metadata": {},
   "outputs": [],
   "source": [
    "# Prepping customers dataframe with missing columns so that Imputer, Scaler, PCA and KMeans can be applied\n",
    "customers.insert(loc=57, column='KKK', value=0)\n",
    "customers.insert(loc=58, column='REGIOTYP', value=0)"
   ]
  },
  {
   "cell_type": "code",
   "execution_count": 117,
   "metadata": {},
   "outputs": [],
   "source": [
    "customers_imputer = imputer.transform(customers)\n",
    "customers_scaler = scaler.transform(customers_imputer)\n",
    "customers_pca = pca.transform(customers_scaler)"
   ]
  },
  {
   "cell_type": "code",
   "execution_count": 118,
   "metadata": {},
   "outputs": [],
   "source": [
    "customers_kmeans = kmeans_model.predict(customers_pca)"
   ]
  },
  {
   "cell_type": "markdown",
   "metadata": {},
   "source": [
    "### Step 3.3: Compare Customer Data to Demographics Data\n",
    "\n",
    "At this point, you have clustered data based on demographics of the general population of Germany, and seen how the customer data for a mail-order sales company maps onto those demographic clusters. In this final substep, you will compare the two cluster distributions to see where the strongest customer base for the company is.\n",
    "\n",
    "Consider the proportion of persons in each cluster for the general population, and the proportions for the customers. If we think the company's customer base to be universal, then the cluster assignment proportions should be fairly similar between the two. If there are only particular segments of the population that are interested in the company's products, then we should see a mismatch from one to the other. If there is a higher proportion of persons in a cluster for the customer data compared to the general population (e.g. 5% of persons are assigned to a cluster for the general population, but 15% of the customer data is closest to that cluster's centroid) then that suggests the people in that cluster to be a target audience for the company. On the other hand, the proportion of the data in a cluster being larger in the general population than the customer data (e.g. only 2% of customers closest to a population centroid that captures 6% of the data) suggests that group of persons to be outside of the target demographics.\n",
    "\n",
    "Take a look at the following points in this step:\n",
    "\n",
    "- Compute the proportion of data points in each cluster for the general population and the customer data. Visualizations will be useful here: both for the individual dataset proportions, but also to visualize the ratios in cluster representation between groups. Seaborn's [`countplot()`](https://seaborn.pydata.org/generated/seaborn.countplot.html) or [`barplot()`](https://seaborn.pydata.org/generated/seaborn.barplot.html) function could be handy.\n",
    "  - Recall the analysis you performed in step 1.1.3 of the project, where you separated out certain data points from the dataset if they had more than a specified threshold of missing values. If you found that this group was qualitatively different from the main bulk of the data, you should treat this as an additional data cluster in this analysis. Make sure that you account for the number of data points in this subset, for both the general population and customer datasets, when making your computations!\n",
    "- Which cluster or clusters are overrepresented in the customer dataset compared to the general population? Select at least one such cluster and infer what kind of people might be represented by that cluster. Use the principal component interpretations from step 2.3 or look at additional components to help you make this inference. Alternatively, you can use the `.inverse_transform()` method of the PCA and StandardScaler objects to transform centroids back to the original data space and interpret the retrieved values directly.\n",
    "- Perform a similar investigation for the underrepresented clusters. Which cluster or clusters are underrepresented in the customer dataset compared to the general population, and what kinds of people are typified by these clusters?"
   ]
  },
  {
   "cell_type": "code",
   "execution_count": 147,
   "metadata": {},
   "outputs": [
    {
     "data": {
      "text/html": [
       "<div>\n",
       "<style scoped>\n",
       "    .dataframe tbody tr th:only-of-type {\n",
       "        vertical-align: middle;\n",
       "    }\n",
       "\n",
       "    .dataframe tbody tr th {\n",
       "        vertical-align: top;\n",
       "    }\n",
       "\n",
       "    .dataframe thead th {\n",
       "        text-align: right;\n",
       "    }\n",
       "</style>\n",
       "<table border=\"1\" class=\"dataframe\">\n",
       "  <thead>\n",
       "    <tr style=\"text-align: right;\">\n",
       "      <th></th>\n",
       "      <th>cluster</th>\n",
       "      <th>general</th>\n",
       "      <th>customers</th>\n",
       "      <th>difference</th>\n",
       "    </tr>\n",
       "  </thead>\n",
       "  <tbody>\n",
       "    <tr>\n",
       "      <th>4</th>\n",
       "      <td>5</td>\n",
       "      <td>0.075000</td>\n",
       "      <td>0.939762</td>\n",
       "      <td>-0.864762</td>\n",
       "    </tr>\n",
       "    <tr>\n",
       "      <th>6</th>\n",
       "      <td>7</td>\n",
       "      <td>0.027502</td>\n",
       "      <td>0.000184</td>\n",
       "      <td>0.027319</td>\n",
       "    </tr>\n",
       "    <tr>\n",
       "      <th>12</th>\n",
       "      <td>13</td>\n",
       "      <td>0.062471</td>\n",
       "      <td>0.009311</td>\n",
       "      <td>0.053160</td>\n",
       "    </tr>\n",
       "    <tr>\n",
       "      <th>7</th>\n",
       "      <td>8</td>\n",
       "      <td>0.073478</td>\n",
       "      <td>0.013307</td>\n",
       "      <td>0.060171</td>\n",
       "    </tr>\n",
       "    <tr>\n",
       "      <th>1</th>\n",
       "      <td>2</td>\n",
       "      <td>0.063266</td>\n",
       "      <td>0.000466</td>\n",
       "      <td>0.062800</td>\n",
       "    </tr>\n",
       "    <tr>\n",
       "      <th>3</th>\n",
       "      <td>4</td>\n",
       "      <td>0.074759</td>\n",
       "      <td>0.011020</td>\n",
       "      <td>0.063740</td>\n",
       "    </tr>\n",
       "    <tr>\n",
       "      <th>8</th>\n",
       "      <td>9</td>\n",
       "      <td>0.090851</td>\n",
       "      <td>0.024694</td>\n",
       "      <td>0.066157</td>\n",
       "    </tr>\n",
       "    <tr>\n",
       "      <th>11</th>\n",
       "      <td>12</td>\n",
       "      <td>0.069956</td>\n",
       "      <td>0.000042</td>\n",
       "      <td>0.069914</td>\n",
       "    </tr>\n",
       "    <tr>\n",
       "      <th>9</th>\n",
       "      <td>10</td>\n",
       "      <td>0.070720</td>\n",
       "      <td>0.000078</td>\n",
       "      <td>0.070642</td>\n",
       "    </tr>\n",
       "    <tr>\n",
       "      <th>10</th>\n",
       "      <td>11</td>\n",
       "      <td>0.080996</td>\n",
       "      <td>0.000007</td>\n",
       "      <td>0.080989</td>\n",
       "    </tr>\n",
       "    <tr>\n",
       "      <th>2</th>\n",
       "      <td>3</td>\n",
       "      <td>0.083482</td>\n",
       "      <td>0.000000</td>\n",
       "      <td>0.083482</td>\n",
       "    </tr>\n",
       "    <tr>\n",
       "      <th>5</th>\n",
       "      <td>6</td>\n",
       "      <td>0.106392</td>\n",
       "      <td>0.001045</td>\n",
       "      <td>0.105348</td>\n",
       "    </tr>\n",
       "    <tr>\n",
       "      <th>0</th>\n",
       "      <td>1</td>\n",
       "      <td>0.121126</td>\n",
       "      <td>0.000085</td>\n",
       "      <td>0.121041</td>\n",
       "    </tr>\n",
       "  </tbody>\n",
       "</table>\n",
       "</div>"
      ],
      "text/plain": [
       "    cluster   general  customers  difference\n",
       "4         5  0.075000   0.939762   -0.864762\n",
       "6         7  0.027502   0.000184    0.027319\n",
       "12       13  0.062471   0.009311    0.053160\n",
       "7         8  0.073478   0.013307    0.060171\n",
       "1         2  0.063266   0.000466    0.062800\n",
       "3         4  0.074759   0.011020    0.063740\n",
       "8         9  0.090851   0.024694    0.066157\n",
       "11       12  0.069956   0.000042    0.069914\n",
       "9        10  0.070720   0.000078    0.070642\n",
       "10       11  0.080996   0.000007    0.080989\n",
       "2         3  0.083482   0.000000    0.083482\n",
       "5         6  0.106392   0.001045    0.105348\n",
       "0         1  0.121126   0.000085    0.121041"
      ]
     },
     "execution_count": 147,
     "metadata": {},
     "output_type": "execute_result"
    }
   ],
   "source": [
    "# Compare the proportion of data in each cluster for the customer data to the\n",
    "# proportion of data in each cluster for the general population.\n",
    "\n",
    "general_cluster = []\n",
    "customer_cluster = []\n",
    "\n",
    "x = [i+1 for i in range(13)]\n",
    "for i in range(13):\n",
    "    general_cluster.append((azdias_kmeans == i).sum()/len(azdias_kmeans))\n",
    "    customer_cluster.append((customers_kmeans == i).sum()/len(customers_kmeans))\n",
    "\n",
    "clusters = pd.DataFrame({'cluster' : x, 'general' : general_cluster, 'customers': customer_cluster })\n",
    "clusters['difference'] = clusters.apply(lambda x: x['general'] - x['customers'], axis=1)\n",
    "clusters.sort_values('difference')\n"
   ]
  },
  {
   "cell_type": "code",
   "execution_count": 148,
   "metadata": {},
   "outputs": [
    {
     "data": {
      "image/png": "[encoded data removed]",
      "text/plain": [
       "<matplotlib.figure.Figure at 0x7fa10785aa90>"
      ]
     },
     "metadata": {
      "needs_background": "light"
     },
     "output_type": "display_data"
    }
   ],
   "source": [
    "clusters.plot(x='cluster', y = ['general', 'customers'], kind='bar', figsize=(9,6))\n",
    "plt.ylabel('Proportion of persons per cluster')\n",
    "plt.show()"
   ]
  },
  {
   "cell_type": "code",
   "execution_count": 149,
   "metadata": {},
   "outputs": [],
   "source": [
    "# What kinds of people are part of a cluster that is overrepresented in the\n",
    "# customer data compared to the general population?\n",
    "\n",
    "clusters = scaler.inverse_transform(pca.inverse_transform(kmeans_model.cluster_centers_))"
   ]
  },
  {
   "cell_type": "code",
   "execution_count": 150,
   "metadata": {},
   "outputs": [
    {
     "data": {
      "text/plain": [
       "ALTERSKATEGORIE_GROB        3.332078\n",
       "FINANZ_MINIMALIST           3.315033\n",
       "FINANZ_SPARER               1.923123\n",
       "FINANZ_VORSORGER            4.230980\n",
       "FINANZ_ANLEGER              1.568701\n",
       "FINANZ_UNAUFFAELLIGER       1.662461\n",
       "FINANZ_HAUSBAUER            3.642055\n",
       "HEALTH_TYP                  2.410945\n",
       "RETOURTYP_BK_S              4.493595\n",
       "SEMIO_SOZ                   4.866273\n",
       "SEMIO_FAM                   5.246296\n",
       "SEMIO_REL                   3.874520\n",
       "SEMIO_MAT                   4.212531\n",
       "SEMIO_VERT                  5.751979\n",
       "SEMIO_LUST                  5.019760\n",
       "SEMIO_ERL                   4.289616\n",
       "SEMIO_KULT                  5.026926\n",
       "SEMIO_RAT                   2.699017\n",
       "SEMIO_KRIT                  3.808847\n",
       "SEMIO_DOM                   3.381674\n",
       "SEMIO_KAEM                  3.042773\n",
       "SEMIO_PFLICHT               3.376615\n",
       "SEMIO_TRADV                 2.881462\n",
       "ANZ_PERSONEN                1.385039\n",
       "ANZ_TITEL                   0.004490\n",
       "HH_EINKOMMEN_SCORE          5.370127\n",
       "W_KEIT_KIND_HH              5.034307\n",
       "WOHNDAUER_2008              8.165121\n",
       "ANZ_HAUSHALTE_AKTIV        15.002949\n",
       "ANZ_HH_TITEL                0.074670\n",
       "KONSUMNAEHE                 2.170777\n",
       "MIN_GEBAEUDEJAHR         1992.659891\n",
       "KBA05_ANTG1                 0.375402\n",
       "KBA05_ANTG2                 1.278695\n",
       "KBA05_ANTG3                 1.142710\n",
       "KBA05_ANTG4                 0.606453\n",
       "KBA05_GBZ                   2.127955\n",
       "BALLRAUM                    3.222546\n",
       "EWDICHTE                    5.043963\n",
       "INNENSTADT                  3.472050\n",
       "GEBAEUDETYP_RASTER          3.414885\n",
       "MOBI_REGIO                  2.886873\n",
       "ONLINE_AFFINITAET           1.746277\n",
       "KBA13_ANZAHL_PKW            1.779513\n",
       "PLZ8_ANTG1                  4.939180\n",
       "PLZ8_ANTG2                550.823171\n",
       "PLZ8_ANTG3                  1.523098\n",
       "PLZ8_ANTG4                  3.284255\n",
       "PLZ8_HHZ                    2.351445\n",
       "PLZ8_GBZ                    1.201907\n",
       "ARBEIT                      3.739317\n",
       "ORTSGR_KLS9                 2.774753\n",
       "RELAT_AB                    3.660863\n",
       "DECADE                      6.758626\n",
       "MOVEMENT                    3.705967\n",
       "WEALTH                      3.470790\n",
       "LIFESTAGE                   0.091994\n",
       "KKK                         4.292272\n",
       "REGIOTYP                    2.347927\n",
       "dtype: float64"
      ]
     },
     "execution_count": 150,
     "metadata": {},
     "output_type": "execute_result"
    }
   ],
   "source": [
    "cluster1 = pd.Series(clusters[0], index=customers.columns)\n",
    "cluster1"
   ]
  },
  {
   "cell_type": "code",
   "execution_count": 141,
   "metadata": {},
   "outputs": [
    {
     "data": {
      "text/plain": [
       "ALTERSKATEGORIE_GROB        3.376504\n",
       "FINANZ_MINIMALIST           4.831374\n",
       "FINANZ_SPARER               1.558437\n",
       "FINANZ_VORSORGER            4.281538\n",
       "FINANZ_ANLEGER              1.443854\n",
       "FINANZ_UNAUFFAELLIGER       2.104119\n",
       "FINANZ_HAUSBAUER            1.980414\n",
       "HEALTH_TYP                  2.020923\n",
       "RETOURTYP_BK_S              4.054182\n",
       "SEMIO_SOZ                   4.829332\n",
       "SEMIO_FAM                   4.886795\n",
       "SEMIO_REL                   3.786214\n",
       "SEMIO_MAT                   3.949327\n",
       "SEMIO_VERT                  6.231972\n",
       "SEMIO_LUST                  5.270054\n",
       "SEMIO_ERL                   4.202332\n",
       "SEMIO_KULT                  4.842002\n",
       "SEMIO_RAT                   2.700875\n",
       "SEMIO_KRIT                  3.077329\n",
       "SEMIO_DOM                   3.331576\n",
       "SEMIO_KAEM                  2.704968\n",
       "SEMIO_PFLICHT               3.218122\n",
       "SEMIO_TRADV                 3.100363\n",
       "ANZ_PERSONEN                2.206860\n",
       "ANZ_TITEL                   0.012864\n",
       "HH_EINKOMMEN_SCORE          2.471795\n",
       "W_KEIT_KIND_HH              4.266772\n",
       "WOHNDAUER_2008              8.468793\n",
       "ANZ_HAUSHALTE_AKTIV         2.002670\n",
       "ANZ_HH_TITEL                0.034001\n",
       "KONSUMNAEHE                 3.343867\n",
       "MIN_GEBAEUDEJAHR         1993.385794\n",
       "KBA05_ANTG1                 2.612564\n",
       "KBA05_ANTG2                 1.100781\n",
       "KBA05_ANTG3                 0.077070\n",
       "KBA05_ANTG4                 0.007810\n",
       "KBA05_GBZ                   4.005492\n",
       "BALLRAUM                    3.993805\n",
       "EWDICHTE                    3.982449\n",
       "INNENSTADT                  4.588330\n",
       "GEBAEUDETYP_RASTER          3.929106\n",
       "MOBI_REGIO                  2.175174\n",
       "ONLINE_AFFINITAET           3.985481\n",
       "KBA13_ANZAHL_PKW            3.116203\n",
       "PLZ8_ANTG1                  3.540158\n",
       "PLZ8_ANTG2                697.481164\n",
       "PLZ8_ANTG3                  2.729189\n",
       "PLZ8_ANTG4                  2.606367\n",
       "PLZ8_HHZ                    1.227909\n",
       "PLZ8_GBZ                    0.380847\n",
       "ARBEIT                      3.676061\n",
       "ORTSGR_KLS9                 3.857251\n",
       "RELAT_AB                    3.037618\n",
       "DECADE                      5.369944\n",
       "MOVEMENT                    2.938991\n",
       "WEALTH                      3.662122\n",
       "LIFESTAGE                   0.978992\n",
       "KKK                         2.116229\n",
       "REGIOTYP                    3.568265\n",
       "dtype: float64"
      ]
     },
     "execution_count": 141,
     "metadata": {},
     "output_type": "execute_result"
    }
   ],
   "source": [
    "# What kinds of people are part of a cluster that is underrepresented in the\n",
    "# customer data compared to the general population?\n",
    "cluster4 = pd.Series(clusters[3], index=customers.columns)\n",
    "cluster4"
   ]
  },
  {
   "cell_type": "code",
   "execution_count": 142,
   "metadata": {},
   "outputs": [
    {
     "data": {
      "text/plain": [
       "ALTERSKATEGORIE_GROB        3.061708\n",
       "FINANZ_MINIMALIST           3.446416\n",
       "FINANZ_SPARER               3.095907\n",
       "FINANZ_VORSORGER            2.988009\n",
       "FINANZ_ANLEGER              3.974639\n",
       "FINANZ_UNAUFFAELLIGER       2.949853\n",
       "FINANZ_HAUSBAUER            1.864532\n",
       "HEALTH_TYP                  2.525806\n",
       "RETOURTYP_BK_S              2.812362\n",
       "SEMIO_SOZ                   3.029848\n",
       "SEMIO_FAM                   2.655201\n",
       "SEMIO_REL                   2.822109\n",
       "SEMIO_MAT                   2.713142\n",
       "SEMIO_VERT                  3.408771\n",
       "SEMIO_LUST                  3.920434\n",
       "SEMIO_ERL                   5.615786\n",
       "SEMIO_KULT                  2.881297\n",
       "SEMIO_RAT                   3.629246\n",
       "SEMIO_KRIT                  5.217742\n",
       "SEMIO_DOM                   5.250998\n",
       "SEMIO_KAEM                  4.965455\n",
       "SEMIO_PFLICHT               3.559626\n",
       "SEMIO_TRADV                 2.900767\n",
       "ANZ_PERSONEN                2.210034\n",
       "ANZ_TITEL                   0.000936\n",
       "HH_EINKOMMEN_SCORE          3.752982\n",
       "W_KEIT_KIND_HH              2.965783\n",
       "WOHNDAUER_2008              7.936792\n",
       "ANZ_HAUSHALTE_AKTIV         1.936262\n",
       "ANZ_HH_TITEL               -0.006097\n",
       "KONSUMNAEHE                 4.041858\n",
       "MIN_GEBAEUDEJAHR         1994.547338\n",
       "KBA05_ANTG1                 2.286990\n",
       "KBA05_ANTG2                 0.987214\n",
       "KBA05_ANTG3                 0.098184\n",
       "KBA05_ANTG4                 0.006494\n",
       "KBA05_GBZ                   4.066217\n",
       "BALLRAUM                    5.425123\n",
       "EWDICHTE                    2.314686\n",
       "INNENSTADT                  5.988055\n",
       "GEBAEUDETYP_RASTER          4.090462\n",
       "MOBI_REGIO                  2.992093\n",
       "ONLINE_AFFINITAET           3.844116\n",
       "KBA13_ANZAHL_PKW            3.549583\n",
       "PLZ8_ANTG1                  4.737782\n",
       "PLZ8_ANTG2                688.494086\n",
       "PLZ8_ANTG3                  2.973641\n",
       "PLZ8_ANTG4                  2.197705\n",
       "PLZ8_HHZ                    0.778348\n",
       "PLZ8_GBZ                    0.144520\n",
       "ARBEIT                      3.261400\n",
       "ORTSGR_KLS9                 3.820055\n",
       "RELAT_AB                    2.551147\n",
       "DECADE                      3.191088\n",
       "MOVEMENT                    2.240462\n",
       "WEALTH                      4.985780\n",
       "LIFESTAGE                   0.181769\n",
       "KKK                         2.361231\n",
       "REGIOTYP                    3.139843\n",
       "dtype: float64"
      ]
     },
     "execution_count": 142,
     "metadata": {},
     "output_type": "execute_result"
    }
   ],
   "source": [
    "cluster8 = pd.Series(clusters[7], index=customers.columns)\n",
    "cluster8"
   ]
  },
  {
   "cell_type": "code",
   "execution_count": 143,
   "metadata": {},
   "outputs": [
    {
     "data": {
      "text/plain": [
       "ALTERSKATEGORIE_GROB        1.654672\n",
       "FINANZ_MINIMALIST           2.371870\n",
       "FINANZ_SPARER               3.936825\n",
       "FINANZ_VORSORGER            2.177100\n",
       "FINANZ_ANLEGER              4.305053\n",
       "FINANZ_UNAUFFAELLIGER       3.985035\n",
       "FINANZ_HAUSBAUER            2.825245\n",
       "HEALTH_TYP                  2.277101\n",
       "RETOURTYP_BK_S              2.449884\n",
       "SEMIO_SOZ                   2.624106\n",
       "SEMIO_FAM                   3.875276\n",
       "SEMIO_REL                   5.376668\n",
       "SEMIO_MAT                   5.158268\n",
       "SEMIO_VERT                  2.615589\n",
       "SEMIO_LUST                  2.965253\n",
       "SEMIO_ERL                   4.256071\n",
       "SEMIO_KULT                  4.180643\n",
       "SEMIO_RAT                   6.321188\n",
       "SEMIO_KRIT                  5.447151\n",
       "SEMIO_DOM                   6.010393\n",
       "SEMIO_KAEM                  5.592082\n",
       "SEMIO_PFLICHT               6.133797\n",
       "SEMIO_TRADV                 6.025098\n",
       "ANZ_PERSONEN                1.967905\n",
       "ANZ_TITEL                   0.002208\n",
       "HH_EINKOMMEN_SCORE          3.938403\n",
       "W_KEIT_KIND_HH              3.325429\n",
       "WOHNDAUER_2008              7.566029\n",
       "ANZ_HAUSHALTE_AKTIV         3.109342\n",
       "ANZ_HH_TITEL                0.004663\n",
       "KONSUMNAEHE                 3.757208\n",
       "MIN_GEBAEUDEJAHR         1994.017777\n",
       "KBA05_ANTG1                 2.098328\n",
       "KBA05_ANTG2                 1.183145\n",
       "KBA05_ANTG3                 0.188670\n",
       "KBA05_ANTG4                 0.034485\n",
       "KBA05_GBZ                   3.911398\n",
       "BALLRAUM                    4.966936\n",
       "EWDICHTE                    2.938184\n",
       "INNENSTADT                  5.543974\n",
       "GEBAEUDETYP_RASTER          3.985640\n",
       "MOBI_REGIO                  2.646341\n",
       "ONLINE_AFFINITAET           3.631822\n",
       "KBA13_ANZAHL_PKW            3.674493\n",
       "PLZ8_ANTG1                  4.359907\n",
       "PLZ8_ANTG2                708.836585\n",
       "PLZ8_ANTG3                  2.803696\n",
       "PLZ8_ANTG4                  2.436016\n",
       "PLZ8_HHZ                    1.011110\n",
       "PLZ8_GBZ                    0.225858\n",
       "ARBEIT                      3.491013\n",
       "ORTSGR_KLS9                 3.881439\n",
       "RELAT_AB                    2.790971\n",
       "DECADE                      3.971077\n",
       "MOVEMENT                    2.495883\n",
       "WEALTH                      5.663942\n",
       "LIFESTAGE                   0.221016\n",
       "KKK                         2.443419\n",
       "REGIOTYP                    3.202306\n",
       "dtype: float64"
      ]
     },
     "execution_count": 143,
     "metadata": {},
     "output_type": "execute_result"
    }
   ],
   "source": [
    "cluster9 = pd.Series(clusters[8], index=customers.columns)\n",
    "cluster9"
   ]
  },
  {
   "cell_type": "code",
   "execution_count": 144,
   "metadata": {},
   "outputs": [
    {
     "data": {
      "text/plain": [
       "ALTERSKATEGORIE_GROB        3.477553\n",
       "FINANZ_MINIMALIST           4.223601\n",
       "FINANZ_SPARER               1.478693\n",
       "FINANZ_VORSORGER            4.379455\n",
       "FINANZ_ANLEGER              1.939745\n",
       "FINANZ_UNAUFFAELLIGER       2.045765\n",
       "FINANZ_HAUSBAUER            2.442601\n",
       "HEALTH_TYP                  2.108388\n",
       "RETOURTYP_BK_S              3.684825\n",
       "SEMIO_SOZ                   3.182185\n",
       "SEMIO_FAM                   2.079207\n",
       "SEMIO_REL                   2.180522\n",
       "SEMIO_MAT                   2.445626\n",
       "SEMIO_VERT                  3.117618\n",
       "SEMIO_LUST                  5.273493\n",
       "SEMIO_ERL                   6.309640\n",
       "SEMIO_KULT                  1.959397\n",
       "SEMIO_RAT                   3.542227\n",
       "SEMIO_KRIT                  5.858255\n",
       "SEMIO_DOM                   6.111881\n",
       "SEMIO_KAEM                  5.851268\n",
       "SEMIO_PFLICHT               3.108230\n",
       "SEMIO_TRADV                 2.816407\n",
       "ANZ_PERSONEN                2.112811\n",
       "ANZ_TITEL                   0.012122\n",
       "HH_EINKOMMEN_SCORE          2.449081\n",
       "W_KEIT_KIND_HH              4.133689\n",
       "WOHNDAUER_2008              8.461459\n",
       "ANZ_HAUSHALTE_AKTIV         1.884603\n",
       "ANZ_HH_TITEL                0.039805\n",
       "KONSUMNAEHE                 3.362257\n",
       "MIN_GEBAEUDEJAHR         1993.234363\n",
       "KBA05_ANTG1                 2.675406\n",
       "KBA05_ANTG2                 1.068389\n",
       "KBA05_ANTG3                 0.059732\n",
       "KBA05_ANTG4                 0.007279\n",
       "KBA05_GBZ                   4.053681\n",
       "BALLRAUM                    3.875759\n",
       "EWDICHTE                    4.121636\n",
       "INNENSTADT                  4.496428\n",
       "GEBAEUDETYP_RASTER          3.968567\n",
       "MOBI_REGIO                  2.115969\n",
       "ONLINE_AFFINITAET           4.049533\n",
       "KBA13_ANZAHL_PKW            3.124824\n",
       "PLZ8_ANTG1                  3.466677\n",
       "PLZ8_ANTG2                704.992072\n",
       "PLZ8_ANTG3                  2.755298\n",
       "PLZ8_ANTG4                  2.611977\n",
       "PLZ8_HHZ                    1.229590\n",
       "PLZ8_GBZ                    0.385001\n",
       "ARBEIT                      3.709774\n",
       "ORTSGR_KLS9                 3.889678\n",
       "RELAT_AB                    3.024727\n",
       "DECADE                      5.535370\n",
       "MOVEMENT                    2.967637\n",
       "WEALTH                      3.600527\n",
       "LIFESTAGE                   0.963997\n",
       "KKK                         2.025308\n",
       "REGIOTYP                    3.652664\n",
       "dtype: float64"
      ]
     },
     "execution_count": 144,
     "metadata": {},
     "output_type": "execute_result"
    }
   ],
   "source": [
    "cluster13 = pd.Series(clusters[12], index=customers.columns)\n",
    "cluster13"
   ]
  },
  {
   "cell_type": "markdown",
   "metadata": {},
   "source": [
    "### Discussion 3.3: Compare Customer Data to Demographics Data\n",
    "\n",
    "Based on the data above cluster 5 is over-represented in the customer dataset, weighted by customer age and financial interest.\n",
    "\n",
    "Based on the data aboove most clusters are underrepresented in the customer data, however, clusters 4, 8, 9 and 13 are underrepresented for the data assigned to them relative to the overall distribution. \n",
    "\n",
    "Lastly, based on the data above the general customers appear to be distributed relatively evenly across the clusters with slightly lower weights in 2, 10, and 13 with a more significant dip at cluster 7."
   ]
  },
  {
   "cell_type": "markdown",
   "metadata": {},
   "source": [
    "> Congratulations on making it this far in the project! Before you finish, make sure to check through the entire notebook from top to bottom to make sure that your analysis follows a logical flow and all of your findings are documented in **Discussion** cells. Once you've checked over all of your work, you should export the notebook as an HTML document to submit for evaluation. You can do this from the menu, navigating to **File -> Download as -> HTML (.html)**. You will submit both that document and this notebook for your project submission."
   ]
  },
  {
   "cell_type": "code",
   "execution_count": null,
   "metadata": {},
   "outputs": [],
   "source": []
  }
 ],
 "metadata": {
  "kernelspec": {
   "display_name": "Python 3",
   "language": "python",
   "name": "python3"
  },
  "language_info": {
   "codemirror_mode": {
    "name": "ipython",
    "version": 3
   },
   "file_extension": ".py",
   "mimetype": "text/x-python",
   "name": "python",
   "nbconvert_exporter": "python",
   "pygments_lexer": "ipython3",
   "version": "3.6.3"
  }
 },
 "nbformat": 4,
 "nbformat_minor": 2
}
